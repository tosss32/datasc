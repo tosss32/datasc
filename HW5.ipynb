{
 "cells": [
  {
   "cell_type": "code",
   "execution_count": 1,
   "id": "be900b75-e8f8-48e9-a072-0481392fb38b",
   "metadata": {},
   "outputs": [],
   "source": [
    "import os\n",
    "import pandas as pd\n",
    "import numpy as np\n",
    "from sklearn.model_selection import train_test_split\n",
    "from sklearn.svm import SVC\n",
    "from sklearn.ensemble import RandomForestClassifier\n",
    "from sklearn.metrics import classification_report"
   ]
  },
  {
   "cell_type": "code",
   "execution_count": 2,
   "id": "77991b2c-9e66-4490-a202-3069dd3466fd",
   "metadata": {},
   "outputs": [],
   "source": [
    "# Шлях до папок з даними\n",
    "data_folders = [\n",
    "    r'e:\\go_it\\hw5\\data\\idle',\n",
    "    r'e:\\go_it\\hw5\\data\\running',\n",
    "    r'e:\\go_it\\hw5\\data\\stairs',\n",
    "    r'e:\\go_it\\hw5\\data\\walking'\n",
    "]\n"
   ]
  },
  {
   "cell_type": "code",
   "execution_count": 3,
   "id": "62d26d43-708b-496f-9084-b95ff0adf4f3",
   "metadata": {},
   "outputs": [],
   "source": [
    "data = []\n",
    "\n",
    "# Проходимося по кожній папці\n",
    "for folder in data_folders:\n",
    "    # Проходимося по кожному файлу у папці\n",
    "    for filename in os.listdir(folder):\n",
    "        # Перевіряємо, чи є файл з розширенням .csv\n",
    "        if filename.endswith('.csv'):\n",
    "            file_path = os.path.join(folder, filename)\n",
    "            # Зчитуємо дані з файлу та додаємо до списку даних\n",
    "            df = pd.read_csv(file_path)\n",
    "            # Додаємо з міткою класу (назва папки)\n",
    "            df['activity'] = os.path.basename(folder)\n",
    "            data.append(df)\n",
    "\n"
   ]
  },
  {
   "cell_type": "code",
   "execution_count": 4,
   "id": "f30e8be7-abf3-44e4-b021-3cffbf640502",
   "metadata": {},
   "outputs": [
    {
     "name": "stdout",
     "output_type": "stream",
     "text": [
      "   accelerometer_X  accelerometer_Y  accelerometer_Z activity\n",
      "0         1.000776         4.616021         8.576031     idle\n",
      "1         0.718261         4.209007         8.446744     idle\n",
      "2        -0.909797        -0.282516         9.203311     idle\n",
      "3         5.099650         0.148441         8.418014     idle\n",
      "4         1.762132        -0.162806         9.251195     idle\n"
     ]
    }
   ],
   "source": [
    "# Об'єднуємо всі дані у один датасет\n",
    "combined_data = pd.concat(data, ignore_index=True)\n",
    "\n",
    "print(combined_data.head())\n",
    "\n",
    "# Зберігаємо об'єднані дані у файл\n",
    "combined_data.to_csv('combined_data.csv', index=False)"
   ]
  },
  {
   "cell_type": "code",
   "execution_count": 5,
   "id": "bd235ade-ac41-4c6b-96cb-477d230ff6fa",
   "metadata": {},
   "outputs": [
    {
     "name": "stdout",
     "output_type": "stream",
     "text": [
      "        accelerometer_X  accelerometer_Y  accelerometer_Z activity\n",
      "186383        -9.811439       -22.132000       -13.053187  walking\n",
      "85476         -4.826710        25.560497        -8.446744  running\n",
      "91093          4.137180         5.635951         4.659117  running\n",
      "89073         -8.192958        -1.503559        -1.177947  running\n",
      "124211        -2.303222         6.373365         5.372589  running\n"
     ]
    }
   ],
   "source": [
    "\n",
    "# Розділити дані на ознаки (X) та цільову змінну (y)\n",
    "X = combined_data.drop('activity', axis=1)\n",
    "y = combined_data['activity']\n",
    "\n",
    "# Розділити дані на навчальний та тестовий набори\n",
    "X_train, X_test, y_train, y_test = train_test_split(X, y, test_size=0.2, random_state=42)\n",
    "\n",
    "windowed_df = pd.DataFrame(X_train)\n",
    "windowed_df['activity'] = y_train.values\n",
    "\n",
    "# Виведіть перші декілька рядків windowed_df для перевірки\n",
    "print(windowed_df.head())"
   ]
  },
  {
   "cell_type": "code",
   "execution_count": 6,
   "id": "b52223b6-e94e-4ea7-9afe-0a6c5a3c1929",
   "metadata": {},
   "outputs": [
    {
     "name": "stdout",
     "output_type": "stream",
     "text": [
      "['idle' 'running' 'stairs' 'walking']\n"
     ]
    }
   ],
   "source": [
    "\n",
    "unique_classes = np.unique(y_train)\n",
    "print(unique_classes)\n",
    "\n"
   ]
  },
  {
   "cell_type": "code",
   "execution_count": 7,
   "id": "ac8fe347-ca9d-4657-bd97-2bc71acb287c",
   "metadata": {},
   "outputs": [
    {
     "name": "stdout",
     "output_type": "stream",
     "text": [
      "SVM Classification Report:\n",
      "              precision    recall  f1-score   support\n",
      "\n",
      "        idle       0.95      0.99      0.97      6203\n",
      "     running       0.93      0.90      0.92     20485\n",
      "      stairs       1.00      0.00      0.00      1022\n",
      "     walking       0.80      0.90      0.85     11062\n",
      "\n",
      "    accuracy                           0.89     38772\n",
      "   macro avg       0.92      0.70      0.68     38772\n",
      "weighted avg       0.90      0.89      0.88     38772\n",
      "\n",
      "\n",
      "Random Forest Classification Report:\n",
      "              precision    recall  f1-score   support\n",
      "\n",
      "        idle       1.00      1.00      1.00      6203\n",
      "     running       1.00      1.00      1.00     20485\n",
      "      stairs       1.00      0.99      0.99      1022\n",
      "     walking       1.00      1.00      1.00     11062\n",
      "\n",
      "    accuracy                           1.00     38772\n",
      "   macro avg       1.00      1.00      1.00     38772\n",
      "weighted avg       1.00      1.00      1.00     38772\n",
      "\n"
     ]
    }
   ],
   "source": [
    "# Навчання моделі SVM\n",
    "svm_model = SVC()\n",
    "svm_model.fit(X_train, y_train)\n",
    "\n",
    "# Навчання моделі випадкового лісу\n",
    "rf_model = RandomForestClassifier()\n",
    "rf_model.fit(X_train, y_train)\n",
    "\n",
    "# Оцінка продуктивності моделей на тестових даних\n",
    "svm_predictions = svm_model.predict(X_test)\n",
    "rf_predictions = rf_model.predict(X_test)\n",
    "\n",
    "# Виведення результатів класифікації\n",
    "print(\"SVM Classification Report:\")\n",
    "print(classification_report(y_test, svm_predictions))\n",
    "\n",
    "print(\"\\nRandom Forest Classification Report:\")\n",
    "print(classification_report(y_test, rf_predictions))"
   ]
  }
 ],
 "metadata": {
  "kernelspec": {
   "display_name": "Python 3 (ipykernel)",
   "language": "python",
   "name": "python3"
  },
  "language_info": {
   "codemirror_mode": {
    "name": "ipython",
    "version": 3
   },
   "file_extension": ".py",
   "mimetype": "text/x-python",
   "name": "python",
   "nbconvert_exporter": "python",
   "pygments_lexer": "ipython3",
   "version": "3.12.0"
  }
 },
 "nbformat": 4,
 "nbformat_minor": 5
}
