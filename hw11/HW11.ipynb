{
 "cells": [
  {
   "cell_type": "code",
   "execution_count": 1,
   "id": "b9c8075a-6c12-46e8-9999-728e581424f2",
   "metadata": {},
   "outputs": [],
   "source": [
    "import numpy as np\n",
    "import tensorflow as tf\n",
    "from tensorflow.keras.datasets import imdb\n",
    "from tensorflow.keras.preprocessing import sequence\n",
    "from tensorflow.keras.models import Sequential\n",
    "from tensorflow.keras.layers import Embedding, SimpleRNN, LSTM, Bidirectional, Dense\n"
   ]
  },
  {
   "cell_type": "code",
   "execution_count": 2,
   "id": "5f29ae77-384f-4a54-802d-dd8256be9afb",
   "metadata": {},
   "outputs": [
    {
     "name": "stdout",
     "output_type": "stream",
     "text": [
      "Завантаження даних...\n",
      "Downloading data from https://storage.googleapis.com/tensorflow/tf-keras-datasets/imdb.npz\n",
      "\u001b[1m17464789/17464789\u001b[0m \u001b[32m━━━━━━━━━━━━━━━━━━━━\u001b[0m\u001b[37m\u001b[0m \u001b[1m7s\u001b[0m 0us/step\n",
      "Підготовка послідовностей (довжина x_train: 25000, x_test: 25000)\n"
     ]
    }
   ],
   "source": [
    "# Завантаження та підготовка даних\n",
    "max_features = 20000  # Кількість унікальних слів (вибірка найчастіших)\n",
    "maxlen = 200  # Максимальна довжина рецензії\n",
    "batch_size = 32\n",
    "\n",
    "print('Завантаження даних...')\n",
    "(x_train, y_train), (x_test, y_test) = imdb.load_data(num_words=max_features)\n",
    "\n",
    "print(f'Підготовка послідовностей (довжина x_train: {len(x_train)}, x_test: {len(x_test)})')\n",
    "x_train = sequence.pad_sequences(x_train, maxlen=maxlen)\n",
    "x_test = sequence.pad_sequences(x_test, maxlen=maxlen)\n",
    "\n"
   ]
  },
  {
   "cell_type": "code",
   "execution_count": 3,
   "id": "d656d72f-3fda-4504-b392-7445918da744",
   "metadata": {},
   "outputs": [
    {
     "name": "stdout",
     "output_type": "stream",
     "text": [
      "Створення моделі RNN...\n",
      "Тренування RNN...\n",
      "Epoch 1/10\n",
      "\u001b[1m625/625\u001b[0m \u001b[32m━━━━━━━━━━━━━━━━━━━━\u001b[0m\u001b[37m\u001b[0m \u001b[1m25s\u001b[0m 38ms/step - accuracy: 0.5744 - loss: 0.6607 - val_accuracy: 0.7624 - val_loss: 0.5084\n",
      "Epoch 2/10\n",
      "\u001b[1m625/625\u001b[0m \u001b[32m━━━━━━━━━━━━━━━━━━━━\u001b[0m\u001b[37m\u001b[0m \u001b[1m23s\u001b[0m 37ms/step - accuracy: 0.8114 - loss: 0.4264 - val_accuracy: 0.7598 - val_loss: 0.5386\n",
      "Epoch 3/10\n",
      "\u001b[1m625/625\u001b[0m \u001b[32m━━━━━━━━━━━━━━━━━━━━\u001b[0m\u001b[37m\u001b[0m \u001b[1m23s\u001b[0m 38ms/step - accuracy: 0.8382 - loss: 0.3843 - val_accuracy: 0.6864 - val_loss: 0.6054\n",
      "Epoch 4/10\n",
      "\u001b[1m625/625\u001b[0m \u001b[32m━━━━━━━━━━━━━━━━━━━━\u001b[0m\u001b[37m\u001b[0m \u001b[1m23s\u001b[0m 37ms/step - accuracy: 0.8539 - loss: 0.3447 - val_accuracy: 0.7894 - val_loss: 0.5009\n",
      "Epoch 5/10\n",
      "\u001b[1m625/625\u001b[0m \u001b[32m━━━━━━━━━━━━━━━━━━━━\u001b[0m\u001b[37m\u001b[0m \u001b[1m23s\u001b[0m 37ms/step - accuracy: 0.8809 - loss: 0.2880 - val_accuracy: 0.6642 - val_loss: 0.6214\n",
      "Epoch 6/10\n",
      "\u001b[1m625/625\u001b[0m \u001b[32m━━━━━━━━━━━━━━━━━━━━\u001b[0m\u001b[37m\u001b[0m \u001b[1m23s\u001b[0m 37ms/step - accuracy: 0.8642 - loss: 0.3207 - val_accuracy: 0.7798 - val_loss: 0.5734\n",
      "Epoch 7/10\n",
      "\u001b[1m625/625\u001b[0m \u001b[32m━━━━━━━━━━━━━━━━━━━━\u001b[0m\u001b[37m\u001b[0m \u001b[1m23s\u001b[0m 37ms/step - accuracy: 0.9189 - loss: 0.2205 - val_accuracy: 0.7552 - val_loss: 0.5924\n",
      "Epoch 8/10\n",
      "\u001b[1m625/625\u001b[0m \u001b[32m━━━━━━━━━━━━━━━━━━━━\u001b[0m\u001b[37m\u001b[0m \u001b[1m23s\u001b[0m 37ms/step - accuracy: 0.9361 - loss: 0.1796 - val_accuracy: 0.8032 - val_loss: 0.6652\n",
      "Epoch 9/10\n",
      "\u001b[1m625/625\u001b[0m \u001b[32m━━━━━━━━━━━━━━━━━━━━\u001b[0m\u001b[37m\u001b[0m \u001b[1m24s\u001b[0m 38ms/step - accuracy: 0.9567 - loss: 0.1305 - val_accuracy: 0.7592 - val_loss: 0.6946\n",
      "Epoch 10/10\n",
      "\u001b[1m625/625\u001b[0m \u001b[32m━━━━━━━━━━━━━━━━━━━━\u001b[0m\u001b[37m\u001b[0m \u001b[1m23s\u001b[0m 37ms/step - accuracy: 0.9632 - loss: 0.1106 - val_accuracy: 0.7594 - val_loss: 0.7345\n"
     ]
    }
   ],
   "source": [
    "# Модель RNN\n",
    "print('Створення моделі RNN...')\n",
    "model_rnn = Sequential()\n",
    "model_rnn.add(Embedding(max_features, 128))\n",
    "model_rnn.add(SimpleRNN(128))\n",
    "model_rnn.add(Dense(1, activation='sigmoid'))\n",
    "model_rnn.compile(optimizer='adam', loss='binary_crossentropy', metrics=['accuracy'])\n",
    "\n",
    "print('Тренування RNN...')\n",
    "history_rnn = model_rnn.fit(x_train, y_train, epochs=10, batch_size=batch_size, validation_split=0.2)\n",
    "\n"
   ]
  },
  {
   "cell_type": "code",
   "execution_count": 4,
   "id": "8f10c36f-fa30-4015-a666-f340aec3cd9e",
   "metadata": {},
   "outputs": [
    {
     "name": "stdout",
     "output_type": "stream",
     "text": [
      "Створення моделі LSTM...\n",
      "Тренування LSTM...\n",
      "Epoch 1/10\n",
      "\u001b[1m625/625\u001b[0m \u001b[32m━━━━━━━━━━━━━━━━━━━━\u001b[0m\u001b[37m\u001b[0m \u001b[1m66s\u001b[0m 103ms/step - accuracy: 0.7172 - loss: 0.5346 - val_accuracy: 0.8586 - val_loss: 0.3398\n",
      "Epoch 2/10\n",
      "\u001b[1m625/625\u001b[0m \u001b[32m━━━━━━━━━━━━━━━━━━━━\u001b[0m\u001b[37m\u001b[0m \u001b[1m64s\u001b[0m 102ms/step - accuracy: 0.8984 - loss: 0.2588 - val_accuracy: 0.8656 - val_loss: 0.3236\n",
      "Epoch 3/10\n",
      "\u001b[1m625/625\u001b[0m \u001b[32m━━━━━━━━━━━━━━━━━━━━\u001b[0m\u001b[37m\u001b[0m \u001b[1m64s\u001b[0m 102ms/step - accuracy: 0.9471 - loss: 0.1475 - val_accuracy: 0.8694 - val_loss: 0.3622\n",
      "Epoch 4/10\n",
      "\u001b[1m625/625\u001b[0m \u001b[32m━━━━━━━━━━━━━━━━━━━━\u001b[0m\u001b[37m\u001b[0m \u001b[1m63s\u001b[0m 100ms/step - accuracy: 0.9660 - loss: 0.1001 - val_accuracy: 0.8536 - val_loss: 0.4296\n",
      "Epoch 5/10\n",
      "\u001b[1m625/625\u001b[0m \u001b[32m━━━━━━━━━━━━━━━━━━━━\u001b[0m\u001b[37m\u001b[0m \u001b[1m63s\u001b[0m 101ms/step - accuracy: 0.9751 - loss: 0.0781 - val_accuracy: 0.8468 - val_loss: 0.4577\n",
      "Epoch 6/10\n",
      "\u001b[1m625/625\u001b[0m \u001b[32m━━━━━━━━━━━━━━━━━━━━\u001b[0m\u001b[37m\u001b[0m \u001b[1m63s\u001b[0m 100ms/step - accuracy: 0.9818 - loss: 0.0589 - val_accuracy: 0.8500 - val_loss: 0.5370\n",
      "Epoch 7/10\n",
      "\u001b[1m625/625\u001b[0m \u001b[32m━━━━━━━━━━━━━━━━━━━━\u001b[0m\u001b[37m\u001b[0m \u001b[1m63s\u001b[0m 100ms/step - accuracy: 0.9941 - loss: 0.0227 - val_accuracy: 0.8632 - val_loss: 0.5739\n",
      "Epoch 8/10\n",
      "\u001b[1m625/625\u001b[0m \u001b[32m━━━━━━━━━━━━━━━━━━━━\u001b[0m\u001b[37m\u001b[0m \u001b[1m63s\u001b[0m 100ms/step - accuracy: 0.9953 - loss: 0.0175 - val_accuracy: 0.8580 - val_loss: 0.6758\n",
      "Epoch 9/10\n",
      "\u001b[1m625/625\u001b[0m \u001b[32m━━━━━━━━━━━━━━━━━━━━\u001b[0m\u001b[37m\u001b[0m \u001b[1m63s\u001b[0m 100ms/step - accuracy: 0.9973 - loss: 0.0120 - val_accuracy: 0.8570 - val_loss: 0.8040\n",
      "Epoch 10/10\n",
      "\u001b[1m625/625\u001b[0m \u001b[32m━━━━━━━━━━━━━━━━━━━━\u001b[0m\u001b[37m\u001b[0m \u001b[1m63s\u001b[0m 100ms/step - accuracy: 0.9854 - loss: 0.0443 - val_accuracy: 0.8262 - val_loss: 0.6953\n"
     ]
    }
   ],
   "source": [
    "# Модель LSTM\n",
    "print('Створення моделі LSTM...')\n",
    "model_lstm = Sequential()\n",
    "model_lstm.add(Embedding(max_features, 128))\n",
    "model_lstm.add(LSTM(128))\n",
    "model_lstm.add(Dense(1, activation='sigmoid'))\n",
    "model_lstm.compile(optimizer='adam', loss='binary_crossentropy', metrics=['accuracy'])\n",
    "\n",
    "print('Тренування LSTM...')\n",
    "history_lstm = model_lstm.fit(x_train, y_train, epochs=10, batch_size=batch_size, validation_split=0.2)\n",
    "\n"
   ]
  },
  {
   "cell_type": "code",
   "execution_count": 5,
   "id": "a3f1883f-e1bc-4c58-9b75-98aa95b7f7b2",
   "metadata": {},
   "outputs": [
    {
     "name": "stdout",
     "output_type": "stream",
     "text": [
      "Створення двосторонньої LSTM моделі...\n",
      "Тренування двосторонньої LSTM...\n",
      "Epoch 1/10\n",
      "\u001b[1m625/625\u001b[0m \u001b[32m━━━━━━━━━━━━━━━━━━━━\u001b[0m\u001b[37m\u001b[0m \u001b[1m83s\u001b[0m 129ms/step - accuracy: 0.7228 - loss: 0.5318 - val_accuracy: 0.8466 - val_loss: 0.3619\n",
      "Epoch 2/10\n",
      "\u001b[1m625/625\u001b[0m \u001b[32m━━━━━━━━━━━━━━━━━━━━\u001b[0m\u001b[37m\u001b[0m \u001b[1m80s\u001b[0m 129ms/step - accuracy: 0.8913 - loss: 0.2789 - val_accuracy: 0.8582 - val_loss: 0.3321\n",
      "Epoch 3/10\n",
      "\u001b[1m625/625\u001b[0m \u001b[32m━━━━━━━━━━━━━━━━━━━━\u001b[0m\u001b[37m\u001b[0m \u001b[1m80s\u001b[0m 129ms/step - accuracy: 0.9405 - loss: 0.1575 - val_accuracy: 0.8632 - val_loss: 0.3507\n",
      "Epoch 4/10\n",
      "\u001b[1m625/625\u001b[0m \u001b[32m━━━━━━━━━━━━━━━━━━━━\u001b[0m\u001b[37m\u001b[0m \u001b[1m81s\u001b[0m 129ms/step - accuracy: 0.9580 - loss: 0.1173 - val_accuracy: 0.8652 - val_loss: 0.4256\n",
      "Epoch 5/10\n",
      "\u001b[1m625/625\u001b[0m \u001b[32m━━━━━━━━━━━━━━━━━━━━\u001b[0m\u001b[37m\u001b[0m \u001b[1m81s\u001b[0m 129ms/step - accuracy: 0.9790 - loss: 0.0663 - val_accuracy: 0.8526 - val_loss: 0.4881\n",
      "Epoch 6/10\n",
      "\u001b[1m625/625\u001b[0m \u001b[32m━━━━━━━━━━━━━━━━━━━━\u001b[0m\u001b[37m\u001b[0m \u001b[1m81s\u001b[0m 129ms/step - accuracy: 0.9882 - loss: 0.0364 - val_accuracy: 0.8476 - val_loss: 0.5833\n",
      "Epoch 7/10\n",
      "\u001b[1m625/625\u001b[0m \u001b[32m━━━━━━━━━━━━━━━━━━━━\u001b[0m\u001b[37m\u001b[0m \u001b[1m81s\u001b[0m 129ms/step - accuracy: 0.9887 - loss: 0.0362 - val_accuracy: 0.8460 - val_loss: 0.6003\n",
      "Epoch 8/10\n",
      "\u001b[1m625/625\u001b[0m \u001b[32m━━━━━━━━━━━━━━━━━━━━\u001b[0m\u001b[37m\u001b[0m \u001b[1m81s\u001b[0m 129ms/step - accuracy: 0.9898 - loss: 0.0304 - val_accuracy: 0.8544 - val_loss: 0.5986\n",
      "Epoch 9/10\n",
      "\u001b[1m625/625\u001b[0m \u001b[32m━━━━━━━━━━━━━━━━━━━━\u001b[0m\u001b[37m\u001b[0m \u001b[1m81s\u001b[0m 129ms/step - accuracy: 0.9950 - loss: 0.0175 - val_accuracy: 0.8694 - val_loss: 0.7288\n",
      "Epoch 10/10\n",
      "\u001b[1m625/625\u001b[0m \u001b[32m━━━━━━━━━━━━━━━━━━━━\u001b[0m\u001b[37m\u001b[0m \u001b[1m80s\u001b[0m 129ms/step - accuracy: 0.9987 - loss: 0.0072 - val_accuracy: 0.8294 - val_loss: 0.8255\n"
     ]
    }
   ],
   "source": [
    "# Двостороння LSTM модель\n",
    "print('Створення двосторонньої LSTM моделі...')\n",
    "model_bilstm = Sequential()\n",
    "model_bilstm.add(Embedding(max_features, 128))\n",
    "model_bilstm.add(Bidirectional(LSTM(128)))\n",
    "model_bilstm.add(Dense(1, activation='sigmoid'))\n",
    "model_bilstm.compile(optimizer='adam', loss='binary_crossentropy', metrics=['accuracy'])\n",
    "\n",
    "print('Тренування двосторонньої LSTM...')\n",
    "history_bilstm = model_bilstm.fit(x_train, y_train, epochs=10, batch_size=batch_size, validation_split=0.2)\n",
    "\n"
   ]
  },
  {
   "cell_type": "code",
   "execution_count": 6,
   "id": "af350e46-a6b1-4dda-9a37-19fb97b450a8",
   "metadata": {},
   "outputs": [
    {
     "name": "stdout",
     "output_type": "stream",
     "text": [
      "Створення глибокої LSTM моделі...\n",
      "Тренування глибокої LSTM...\n",
      "Epoch 1/10\n",
      "\u001b[1m625/625\u001b[0m \u001b[32m━━━━━━━━━━━━━━━━━━━━\u001b[0m\u001b[37m\u001b[0m \u001b[1m126s\u001b[0m 197ms/step - accuracy: 0.7365 - loss: 0.5048 - val_accuracy: 0.8190 - val_loss: 0.3968\n",
      "Epoch 2/10\n",
      "\u001b[1m625/625\u001b[0m \u001b[32m━━━━━━━━━━━━━━━━━━━━\u001b[0m\u001b[37m\u001b[0m \u001b[1m123s\u001b[0m 197ms/step - accuracy: 0.9185 - loss: 0.2236 - val_accuracy: 0.8656 - val_loss: 0.3263\n",
      "Epoch 3/10\n",
      "\u001b[1m625/625\u001b[0m \u001b[32m━━━━━━━━━━━━━━━━━━━━\u001b[0m\u001b[37m\u001b[0m \u001b[1m123s\u001b[0m 196ms/step - accuracy: 0.9360 - loss: 0.1710 - val_accuracy: 0.8502 - val_loss: 0.4002\n",
      "Epoch 4/10\n",
      "\u001b[1m625/625\u001b[0m \u001b[32m━━━━━━━━━━━━━━━━━━━━\u001b[0m\u001b[37m\u001b[0m \u001b[1m123s\u001b[0m 197ms/step - accuracy: 0.9637 - loss: 0.1041 - val_accuracy: 0.8650 - val_loss: 0.4453\n",
      "Epoch 5/10\n",
      "\u001b[1m625/625\u001b[0m \u001b[32m━━━━━━━━━━━━━━━━━━━━\u001b[0m\u001b[37m\u001b[0m \u001b[1m123s\u001b[0m 196ms/step - accuracy: 0.9799 - loss: 0.0664 - val_accuracy: 0.8602 - val_loss: 0.4777\n",
      "Epoch 6/10\n",
      "\u001b[1m625/625\u001b[0m \u001b[32m━━━━━━━━━━━━━━━━━━━━\u001b[0m\u001b[37m\u001b[0m \u001b[1m122s\u001b[0m 196ms/step - accuracy: 0.9841 - loss: 0.0496 - val_accuracy: 0.8624 - val_loss: 0.5960\n",
      "Epoch 7/10\n",
      "\u001b[1m625/625\u001b[0m \u001b[32m━━━━━━━━━━━━━━━━━━━━\u001b[0m\u001b[37m\u001b[0m \u001b[1m123s\u001b[0m 196ms/step - accuracy: 0.9899 - loss: 0.0298 - val_accuracy: 0.8562 - val_loss: 0.5958\n",
      "Epoch 8/10\n",
      "\u001b[1m625/625\u001b[0m \u001b[32m━━━━━━━━━━━━━━━━━━━━\u001b[0m\u001b[37m\u001b[0m \u001b[1m122s\u001b[0m 196ms/step - accuracy: 0.9888 - loss: 0.0366 - val_accuracy: 0.8436 - val_loss: 0.5984\n",
      "Epoch 9/10\n",
      "\u001b[1m625/625\u001b[0m \u001b[32m━━━━━━━━━━━━━━━━━━━━\u001b[0m\u001b[37m\u001b[0m \u001b[1m124s\u001b[0m 198ms/step - accuracy: 0.9924 - loss: 0.0236 - val_accuracy: 0.8486 - val_loss: 0.7192\n",
      "Epoch 10/10\n",
      "\u001b[1m625/625\u001b[0m \u001b[32m━━━━━━━━━━━━━━━━━━━━\u001b[0m\u001b[37m\u001b[0m \u001b[1m123s\u001b[0m 197ms/step - accuracy: 0.9918 - loss: 0.0254 - val_accuracy: 0.8512 - val_loss: 0.6251\n"
     ]
    }
   ],
   "source": [
    "# Глибока LSTM модель\n",
    "print('Створення глибокої LSTM моделі...')\n",
    "model_deep_lstm = Sequential()\n",
    "model_deep_lstm.add(Embedding(max_features, 128))\n",
    "model_deep_lstm.add(LSTM(128, return_sequences=True))\n",
    "model_deep_lstm.add(LSTM(128))\n",
    "model_deep_lstm.add(Dense(1, activation='sigmoid'))\n",
    "model_deep_lstm.compile(optimizer='adam', loss='binary_crossentropy', metrics=['accuracy'])\n",
    "\n",
    "print('Тренування глибокої LSTM...')\n",
    "history_deep_lstm = model_deep_lstm.fit(x_train, y_train, epochs=10, batch_size=batch_size, validation_split=0.2)\n",
    "\n"
   ]
  },
  {
   "cell_type": "code",
   "execution_count": 7,
   "id": "e3089c9e-b5ee-4002-839e-fb1842e1d108",
   "metadata": {},
   "outputs": [
    {
     "name": "stdout",
     "output_type": "stream",
     "text": [
      "Створення двосторонньої RNN моделі...\n",
      "Тренування двосторонньої RNN...\n",
      "Epoch 1/10\n",
      "\u001b[1m625/625\u001b[0m \u001b[32m━━━━━━━━━━━━━━━━━━━━\u001b[0m\u001b[37m\u001b[0m \u001b[1m31s\u001b[0m 46ms/step - accuracy: 0.5099 - loss: 0.7053 - val_accuracy: 0.5466 - val_loss: 0.6953\n",
      "Epoch 2/10\n",
      "\u001b[1m625/625\u001b[0m \u001b[32m━━━━━━━━━━━━━━━━━━━━\u001b[0m\u001b[37m\u001b[0m \u001b[1m29s\u001b[0m 46ms/step - accuracy: 0.6150 - loss: 0.6507 - val_accuracy: 0.7136 - val_loss: 0.5582\n",
      "Epoch 3/10\n",
      "\u001b[1m625/625\u001b[0m \u001b[32m━━━━━━━━━━━━━━━━━━━━\u001b[0m\u001b[37m\u001b[0m \u001b[1m31s\u001b[0m 50ms/step - accuracy: 0.7931 - loss: 0.4524 - val_accuracy: 0.7652 - val_loss: 0.5122\n",
      "Epoch 4/10\n",
      "\u001b[1m625/625\u001b[0m \u001b[32m━━━━━━━━━━━━━━━━━━━━\u001b[0m\u001b[37m\u001b[0m \u001b[1m29s\u001b[0m 47ms/step - accuracy: 0.8063 - loss: 0.4154 - val_accuracy: 0.5676 - val_loss: 0.6992\n",
      "Epoch 5/10\n",
      "\u001b[1m625/625\u001b[0m \u001b[32m━━━━━━━━━━━━━━━━━━━━\u001b[0m\u001b[37m\u001b[0m \u001b[1m29s\u001b[0m 47ms/step - accuracy: 0.7510 - loss: 0.5084 - val_accuracy: 0.7132 - val_loss: 0.5706\n",
      "Epoch 6/10\n",
      "\u001b[1m625/625\u001b[0m \u001b[32m━━━━━━━━━━━━━━━━━━━━\u001b[0m\u001b[37m\u001b[0m \u001b[1m29s\u001b[0m 47ms/step - accuracy: 0.8113 - loss: 0.4324 - val_accuracy: 0.7368 - val_loss: 0.5880\n",
      "Epoch 7/10\n",
      "\u001b[1m625/625\u001b[0m \u001b[32m━━━━━━━━━━━━━━━━━━━━\u001b[0m\u001b[37m\u001b[0m \u001b[1m29s\u001b[0m 47ms/step - accuracy: 0.8193 - loss: 0.4096 - val_accuracy: 0.6276 - val_loss: 0.6545\n",
      "Epoch 8/10\n",
      "\u001b[1m625/625\u001b[0m \u001b[32m━━━━━━━━━━━━━━━━━━━━\u001b[0m\u001b[37m\u001b[0m \u001b[1m29s\u001b[0m 46ms/step - accuracy: 0.7474 - loss: 0.4946 - val_accuracy: 0.6844 - val_loss: 0.6263\n",
      "Epoch 9/10\n",
      "\u001b[1m625/625\u001b[0m \u001b[32m━━━━━━━━━━━━━━━━━━━━\u001b[0m\u001b[37m\u001b[0m \u001b[1m29s\u001b[0m 46ms/step - accuracy: 0.8348 - loss: 0.3804 - val_accuracy: 0.6766 - val_loss: 0.8423\n",
      "Epoch 10/10\n",
      "\u001b[1m625/625\u001b[0m \u001b[32m━━━━━━━━━━━━━━━━━━━━\u001b[0m\u001b[37m\u001b[0m \u001b[1m29s\u001b[0m 46ms/step - accuracy: 0.7760 - loss: 0.4501 - val_accuracy: 0.6916 - val_loss: 0.7225\n"
     ]
    }
   ],
   "source": [
    "# Модель двосторонньої RNN\n",
    "print('Створення двосторонньої RNN моделі...')\n",
    "model_birnn = Sequential()\n",
    "model_birnn.add(Embedding(max_features, 128))\n",
    "model_birnn.add(Bidirectional(SimpleRNN(128)))\n",
    "model_birnn.add(Dense(1, activation='sigmoid'))\n",
    "model_birnn.compile(optimizer='adam', loss='binary_crossentropy', metrics=['accuracy'])\n",
    "\n",
    "print('Тренування двосторонньої RNN...')\n",
    "history_birnn = model_birnn.fit(x_train, y_train, epochs=10, batch_size=batch_size, validation_split=0.2)\n"
   ]
  },
  {
   "cell_type": "code",
   "execution_count": 8,
   "id": "66576b4a-f778-46ce-89ef-e39928af233b",
   "metadata": {},
   "outputs": [
    {
     "name": "stdout",
     "output_type": "stream",
     "text": [
      "Створення глибокої RNN моделі...\n",
      "Тренування глибокої RNN...\n",
      "Epoch 1/10\n",
      "\u001b[1m625/625\u001b[0m \u001b[32m━━━━━━━━━━━━━━━━━━━━\u001b[0m\u001b[37m\u001b[0m \u001b[1m40s\u001b[0m 61ms/step - accuracy: 0.5241 - loss: 0.6984 - val_accuracy: 0.5622 - val_loss: 0.6672\n",
      "Epoch 2/10\n",
      "\u001b[1m625/625\u001b[0m \u001b[32m━━━━━━━━━━━━━━━━━━━━\u001b[0m\u001b[37m\u001b[0m \u001b[1m38s\u001b[0m 60ms/step - accuracy: 0.7036 - loss: 0.5698 - val_accuracy: 0.6650 - val_loss: 0.6106\n",
      "Epoch 3/10\n",
      "\u001b[1m625/625\u001b[0m \u001b[32m━━━━━━━━━━━━━━━━━━━━\u001b[0m\u001b[37m\u001b[0m \u001b[1m38s\u001b[0m 61ms/step - accuracy: 0.8644 - loss: 0.3248 - val_accuracy: 0.6074 - val_loss: 0.7855\n",
      "Epoch 4/10\n",
      "\u001b[1m625/625\u001b[0m \u001b[32m━━━━━━━━━━━━━━━━━━━━\u001b[0m\u001b[37m\u001b[0m \u001b[1m38s\u001b[0m 61ms/step - accuracy: 0.9130 - loss: 0.2193 - val_accuracy: 0.6634 - val_loss: 0.8643\n",
      "Epoch 5/10\n",
      "\u001b[1m625/625\u001b[0m \u001b[32m━━━━━━━━━━━━━━━━━━━━\u001b[0m\u001b[37m\u001b[0m \u001b[1m39s\u001b[0m 62ms/step - accuracy: 0.9443 - loss: 0.1428 - val_accuracy: 0.6248 - val_loss: 1.0723\n",
      "Epoch 6/10\n",
      "\u001b[1m625/625\u001b[0m \u001b[32m━━━━━━━━━━━━━━━━━━━━\u001b[0m\u001b[37m\u001b[0m \u001b[1m38s\u001b[0m 61ms/step - accuracy: 0.9464 - loss: 0.1428 - val_accuracy: 0.5612 - val_loss: 0.8433\n",
      "Epoch 7/10\n",
      "\u001b[1m625/625\u001b[0m \u001b[32m━━━━━━━━━━━━━━━━━━━━\u001b[0m\u001b[37m\u001b[0m \u001b[1m38s\u001b[0m 61ms/step - accuracy: 0.7673 - loss: 0.4645 - val_accuracy: 0.6404 - val_loss: 0.9245\n",
      "Epoch 8/10\n",
      "\u001b[1m625/625\u001b[0m \u001b[32m━━━━━━━━━━━━━━━━━━━━\u001b[0m\u001b[37m\u001b[0m \u001b[1m38s\u001b[0m 61ms/step - accuracy: 0.9304 - loss: 0.1743 - val_accuracy: 0.6580 - val_loss: 1.0497\n",
      "Epoch 9/10\n",
      "\u001b[1m625/625\u001b[0m \u001b[32m━━━━━━━━━━━━━━━━━━━━\u001b[0m\u001b[37m\u001b[0m \u001b[1m38s\u001b[0m 61ms/step - accuracy: 0.9648 - loss: 0.1003 - val_accuracy: 0.6588 - val_loss: 1.1088\n",
      "Epoch 10/10\n",
      "\u001b[1m625/625\u001b[0m \u001b[32m━━━━━━━━━━━━━━━━━━━━\u001b[0m\u001b[37m\u001b[0m \u001b[1m38s\u001b[0m 61ms/step - accuracy: 0.9757 - loss: 0.0666 - val_accuracy: 0.6786 - val_loss: 1.2672\n"
     ]
    }
   ],
   "source": [
    "# Модель глибокої RNN\n",
    "print('Створення глибокої RNN моделі...')\n",
    "model_deep_rnn = Sequential()\n",
    "model_deep_rnn.add(Embedding(max_features, 128))\n",
    "model_deep_rnn.add(SimpleRNN(128, return_sequences=True))\n",
    "model_deep_rnn.add(SimpleRNN(128))\n",
    "model_deep_rnn.add(Dense(1, activation='sigmoid'))\n",
    "model_deep_rnn.compile(optimizer='adam', loss='binary_crossentropy', metrics=['accuracy'])\n",
    "\n",
    "print('Тренування глибокої RNN...')\n",
    "history_deep_rnn = model_deep_rnn.fit(x_train, y_train, epochs=10, batch_size=batch_size, validation_split=0.2)\n"
   ]
  },
  {
   "cell_type": "code",
   "execution_count": 9,
   "id": "f60fa294-ffd5-415c-97f7-5a23f0c77ac9",
   "metadata": {},
   "outputs": [
    {
     "name": "stdout",
     "output_type": "stream",
     "text": [
      "Оцінка моделей...\n",
      "782/782 - 6s - 8ms/step - accuracy: 0.7509 - loss: 0.7519\n",
      "782/782 - 24s - 31ms/step - accuracy: 0.8234 - loss: 0.7348\n",
      "782/782 - 28s - 36ms/step - accuracy: 0.8214 - loss: 0.8800\n",
      "782/782 - 48s - 61ms/step - accuracy: 0.8430 - loss: 0.6654\n",
      "782/782 - 9s - 11ms/step - accuracy: 0.6911 - loss: 0.7023\n",
      "782/782 - 11s - 15ms/step - accuracy: 0.6735 - loss: 1.2646\n",
      "Результати RNN: [0.7519144415855408, 0.7508800029754639]\n",
      "Результати LSTM: [0.7348210215568542, 0.823360025882721]\n",
      "Результати двосторонньої LSTM: [0.8800254464149475, 0.821399986743927]\n",
      "Результати глибокої LSTM: [0.6654059290885925, 0.842960000038147]\n",
      "Результати двосторонньої RNN: [0.7023144364356995, 0.6910799741744995]\n",
      "Результати глибокої RNN: [1.2646174430847168, 0.6734799742698669]\n"
     ]
    }
   ],
   "source": [
    "# Порівняння результатів\n",
    "print('Оцінка моделей...')\n",
    "results_rnn = model_rnn.evaluate(x_test, y_test, verbose=2)\n",
    "results_lstm = model_lstm.evaluate(x_test, y_test, verbose=2)\n",
    "results_bilstm = model_bilstm.evaluate(x_test, y_test, verbose=2)\n",
    "results_deep_lstm = model_deep_lstm.evaluate(x_test, y_test, verbose=2)\n",
    "results_birnn = model_birnn.evaluate(x_test, y_test, verbose=2)\n",
    "results_deep_rnn = model_deep_rnn.evaluate(x_test, y_test, verbose=2)\n",
    "\n",
    "print(f'Результати RNN: {results_rnn}')\n",
    "print(f'Результати LSTM: {results_lstm}')\n",
    "print(f'Результати двосторонньої LSTM: {results_bilstm}')\n",
    "print(f'Результати глибокої LSTM: {results_deep_lstm}')\n",
    "print(f'Результати двосторонньої RNN: {results_birnn}')\n",
    "print(f'Результати глибокої RNN: {results_deep_rnn}')\n"
   ]
  },
  {
   "cell_type": "code",
   "execution_count": null,
   "id": "619d47a0-7fb3-4bf3-ae7d-9d0e56f70060",
   "metadata": {},
   "outputs": [],
   "source": [
    "# LSTM моделі показують кращі результати"
   ]
  }
 ],
 "metadata": {
  "kernelspec": {
   "display_name": "Python 3 (ipykernel)",
   "language": "python",
   "name": "python3"
  },
  "language_info": {
   "codemirror_mode": {
    "name": "ipython",
    "version": 3
   },
   "file_extension": ".py",
   "mimetype": "text/x-python",
   "name": "python",
   "nbconvert_exporter": "python",
   "pygments_lexer": "ipython3",
   "version": "3.11.4"
  }
 },
 "nbformat": 4,
 "nbformat_minor": 5
}
