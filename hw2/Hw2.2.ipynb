{
 "cells": [
  {
   "cell_type": "code",
   "execution_count": 1,
   "id": "ee50eb48-b796-40fb-a14b-e2b5a93969c1",
   "metadata": {},
   "outputs": [],
   "source": [
    "import pandas as pd"
   ]
  },
  {
   "cell_type": "code",
   "execution_count": 2,
   "id": "8da06cd3-4d38-474d-b77a-09e55a3c2b94",
   "metadata": {},
   "outputs": [],
   "source": [
    "# Вказати абсолютний шлях до файлу CSV\n",
    "file_path = r'e:\\go_it\\hw2\\2017_jun_final.csv'\n",
    "\n",
    "# Прочитати файл 2017_jun_final.csv за допомогою методу read_csv\n",
    "df = pd.read_csv(file_path)"
   ]
  },
  {
   "cell_type": "code",
   "execution_count": 3,
   "id": "be8dfefa-9abb-4cd6-9fbc-4c38b31e2d57",
   "metadata": {},
   "outputs": [
    {
     "name": "stdout",
     "output_type": "stream",
     "text": [
      "Перші кілька рядків таблиці:\n",
      "   N                    Посада Мова програмування Спеціалізація  \\\n",
      "0  1        Junior QA engineer                NaN     Manual QA   \n",
      "1  2        Junior QA engineer                NaN     Manual QA   \n",
      "2  3         Software Engineer            C#/.NET           NaN   \n",
      "3  4         Software Engineer         JavaScript           NaN   \n",
      "4  5  Senior Software Engineer         JavaScript           NaN   \n",
      "\n",
      "  Загальний досвід роботи Досвід роботи на поточному місці  \\\n",
      "0                     0.5                              0.5   \n",
      "1         менше 3 місяців                  менше 3 місяців   \n",
      "2                       4                                1   \n",
      "3                       5                                4   \n",
      "4       10 і більше років                              0.5   \n",
      "\n",
      "   Зарплата на місяць  Зміна зарплати за 12 місяців   Місто   Розмір компанії  \\\n",
      "0                 400                             0  Харків        до 10 осіб   \n",
      "1                 430                           130  Харків  більше 1000 осіб   \n",
      "2                2500                           800    Київ      до 1000 осіб   \n",
      "3                2000                           400   Одеса       до 200 осіб   \n",
      "4                4500                           500    Інше        до 10 осіб   \n",
      "\n",
      "   ... Ще студент                    Рівень англійської  \\\n",
      "0  ...       True    Pre-intermediate (нище середнього)   \n",
      "1  ...       True  Upper-Intermediate (вище середнього)   \n",
      "2  ...      False               Intermediate (середній)   \n",
      "3  ...      False    Pre-intermediate (нище середнього)   \n",
      "4  ...      False               Intermediate (середній)   \n",
      "\n",
      "                   Предметна область      Дата заповнення  \\\n",
      "0                      iOS,eCommerce  12/06/2017 12:38:08   \n",
      "1                       Веб-розробка  12/06/2017 12:42:51   \n",
      "2  Веб-розробка,Корпоративні системи  12/06/2017 13:02:47   \n",
      "3  Desktop Applications,Веб-розробка  12/06/2017 13:03:01   \n",
      "4  Desktop Applications,Веб-розробка  12/06/2017 13:03:47   \n",
      "\n",
      "                                          User.Agent   exp current_job_exp  \\\n",
      "0  Mozilla/5.0 (Windows NT 10.0; Win64; x64) Appl...   0.5             0.5   \n",
      "1  Mozilla/5.0 (iPad; CPU OS 10_2_1 like Mac OS X...   0.0             0.0   \n",
      "2  Mozilla/5.0 (Windows NT 10.0; Win64; x64) Appl...   4.0             1.0   \n",
      "3  Mozilla/5.0 (Windows NT 6.1; Win64; x64) Apple...   5.0             4.0   \n",
      "4  Mozilla/5.0 (iPhone; CPU iPhone OS 10_3_2 like...  10.0             0.5   \n",
      "\n",
      "  salary Валюта  cls  \n",
      "0    400    NaN   QA  \n",
      "1    430    NaN   QA  \n",
      "2   2500    NaN  DEV  \n",
      "3   2000    NaN  DEV  \n",
      "4   4500    NaN  DEV  \n",
      "\n",
      "[5 rows x 25 columns]\n"
     ]
    }
   ],
   "source": [
    "# Виведіть перші кілька рядків таблиці за допомогою методу head\n",
    "print(\"Перші кілька рядків таблиці:\")\n",
    "print(df.head())"
   ]
  },
  {
   "cell_type": "code",
   "execution_count": 4,
   "id": "3ef347f5-6a53-4032-915c-fd50246fa032",
   "metadata": {},
   "outputs": [
    {
     "name": "stdout",
     "output_type": "stream",
     "text": [
      "\n",
      "Розмір таблиці: 8704 рядків, 25 стовпців\n"
     ]
    }
   ],
   "source": [
    "# Визначте розмір таблиці за допомогою методу shape\n",
    "rows, columns = df.shape\n",
    "print(\"\\nРозмір таблиці: {} рядків, {} стовпців\".format(rows, columns))"
   ]
  },
  {
   "cell_type": "code",
   "execution_count": 5,
   "id": "e3cf299f-8059-477a-8992-c866b1b59c3b",
   "metadata": {},
   "outputs": [
    {
     "name": "stdout",
     "output_type": "stream",
     "text": [
      "\n",
      "Типи стовпців:\n",
      "N                                     int64\n",
      "Посада                               object\n",
      "Мова програмування                   object\n",
      "Спеціалізація                        object\n",
      "Загальний досвід роботи              object\n",
      "Досвід роботи на поточному місці     object\n",
      "Зарплата на місяць                    int64\n",
      "Зміна зарплати за 12 місяців          int64\n",
      "Місто                                object\n",
      "Розмір компанії                      object\n",
      "Тип компанії                         object\n",
      "Стать                                object\n",
      "Вік                                   int64\n",
      "Освіта                               object\n",
      "Університет                          object\n",
      "Ще студент                             bool\n",
      "Рівень англійської                   object\n",
      "Предметна область                    object\n",
      "Дата заповнення                      object\n",
      "User.Agent                           object\n",
      "exp                                 float64\n",
      "current_job_exp                     float64\n",
      "salary                                int64\n",
      "Валюта                               object\n",
      "cls                                  object\n",
      "dtype: object\n"
     ]
    }
   ],
   "source": [
    "# Визначте типи всіх стовпців за допомогою dataframe.dtypes\n",
    "print(\"\\nТипи стовпців:\")\n",
    "print(df.dtypes)"
   ]
  },
  {
   "cell_type": "code",
   "execution_count": 6,
   "id": "8f6ce85b-ef9d-4f1a-95de-0618fd871258",
   "metadata": {},
   "outputs": [
    {
     "name": "stdout",
     "output_type": "stream",
     "text": [
      "\n",
      "Частка пропусків в кожній колонці:\n",
      "N                                    0.000000\n",
      "Посада                               0.000000\n",
      "Мова програмування                  44.232537\n",
      "Спеціалізація                       82.938879\n",
      "Загальний досвід роботи              0.000000\n",
      "Досвід роботи на поточному місці     0.000000\n",
      "Зарплата на місяць                   0.000000\n",
      "Зміна зарплати за 12 місяців         0.000000\n",
      "Місто                                0.000000\n",
      "Розмір компанії                      0.000000\n",
      "Тип компанії                         0.000000\n",
      "Стать                                0.000000\n",
      "Вік                                  0.000000\n",
      "Освіта                               0.000000\n",
      "Університет                          4.113051\n",
      "Ще студент                           0.000000\n",
      "Рівень англійської                   0.000000\n",
      "Предметна область                    2.562040\n",
      "Дата заповнення                      0.000000\n",
      "User.Agent                           0.000000\n",
      "exp                                  0.000000\n",
      "current_job_exp                      0.000000\n",
      "salary                               0.000000\n",
      "Валюта                              99.885110\n",
      "cls                                 18.083640\n",
      "dtype: float64\n"
     ]
    }
   ],
   "source": [
    "# Порахуйте, яка частка пропусків міститься в кожній колонці (використовуйте методи isnull та sum)\n",
    "missing_percentage = (df.isnull().sum() / len(df)) * 100\n",
    "print(\"\\nЧастка пропусків в кожній колонці:\")\n",
    "print(missing_percentage)"
   ]
  },
  {
   "cell_type": "code",
   "execution_count": 7,
   "id": "18507885-30ee-428a-a582-f79953f15740",
   "metadata": {},
   "outputs": [],
   "source": [
    "# Видаліть усі стовпці з пропусками, крім стовпця \"Мова програмування\"\n",
    "df_cleaned = df.dropna(subset=['Мова програмування'])"
   ]
  },
  {
   "cell_type": "code",
   "execution_count": 8,
   "id": "5e051e03-7523-470d-ba12-c75762be711f",
   "metadata": {},
   "outputs": [
    {
     "name": "stdout",
     "output_type": "stream",
     "text": [
      "\n",
      "Частка пропусків в кожній колонці після видалення рядків з пропусками:\n",
      "N                                    0.000000\n",
      "Посада                               0.000000\n",
      "Мова програмування                   0.000000\n",
      "Спеціалізація                       99.979398\n",
      "Загальний досвід роботи              0.000000\n",
      "Досвід роботи на поточному місці     0.000000\n",
      "Зарплата на місяць                   0.000000\n",
      "Зміна зарплати за 12 місяців         0.000000\n",
      "Місто                                0.000000\n",
      "Розмір компанії                      0.000000\n",
      "Тип компанії                         0.000000\n",
      "Стать                                0.000000\n",
      "Вік                                  0.000000\n",
      "Освіта                               0.000000\n",
      "Університет                          4.758962\n",
      "Ще студент                           0.000000\n",
      "Рівень англійської                   0.000000\n",
      "Предметна область                    0.618047\n",
      "Дата заповнення                      0.000000\n",
      "User.Agent                           0.000000\n",
      "exp                                  0.000000\n",
      "current_job_exp                      0.000000\n",
      "salary                               0.000000\n",
      "Валюта                              99.835187\n",
      "cls                                  0.164813\n",
      "dtype: float64\n"
     ]
    }
   ],
   "source": [
    "# Знову порахуйте, яка частка пропусків міститься в кожній колонці\n",
    "missing_percentage_cleaned = (df_cleaned.isnull().sum() / len(df_cleaned)) * 100\n",
    "print(\"\\nЧастка пропусків в кожній колонці після видалення рядків з пропусками:\")\n",
    "print(missing_percentage_cleaned)"
   ]
  },
  {
   "cell_type": "code",
   "execution_count": 9,
   "id": "a4de9018-3d90-4429-b245-908fb7c4b125",
   "metadata": {},
   "outputs": [],
   "source": [
    "# Видаліть усі рядки у вихідній таблиці за допомогою методу dropna\n",
    "df_dropped = df.dropna()"
   ]
  },
  {
   "cell_type": "code",
   "execution_count": 10,
   "id": "4e8056bf-7687-44ee-b781-903236eb1745",
   "metadata": {},
   "outputs": [
    {
     "name": "stdout",
     "output_type": "stream",
     "text": [
      "\n",
      "Розмір таблиці після видалення рядків з пропусками: 0 рядків, 25 стовпців\n"
     ]
    }
   ],
   "source": [
    "# Визначте новий розмір таблиці за допомогою методу shape\n",
    "rows_dropped, columns_dropped = df_dropped.shape\n",
    "print(\"\\nРозмір таблиці після видалення рядків з пропусками: {} рядків, {} стовпців\".format(rows_dropped, columns_dropped))"
   ]
  },
  {
   "cell_type": "code",
   "execution_count": 11,
   "id": "f9f110e1-35aa-4c09-8cf1-648117bfc004",
   "metadata": {},
   "outputs": [],
   "source": [
    "# Створіть нову таблицю python_data, в якій будуть тільки рядки зі спеціалістами, які вказали мову програмування Python\n",
    "python_data = df[df['Мова програмування'] == 'Python']"
   ]
  },
  {
   "cell_type": "code",
   "execution_count": 12,
   "id": "5e088d5c-970b-4325-8ffd-84534e7898cd",
   "metadata": {},
   "outputs": [
    {
     "name": "stdout",
     "output_type": "stream",
     "text": [
      "\n",
      "Розмір таблиці з Python-розробниками: 207 рядків, 25 стовпців\n"
     ]
    }
   ],
   "source": [
    "# Визначте розмір таблиці python_data за допомогою методу shape\n",
    "rows_python, columns_python = python_data.shape\n",
    "print(\"\\nРозмір таблиці з Python-розробниками: {} рядків, {} стовпців\".format(rows_python, columns_python))"
   ]
  },
  {
   "cell_type": "code",
   "execution_count": 13,
   "id": "4d38af24-a8bc-4902-a68d-f36524c86b86",
   "metadata": {},
   "outputs": [],
   "source": [
    "# Використовуючи метод groupby, виконайте групування за стовпчиком \"Посада\"\n",
    "grouped_data = df.groupby('Посада')"
   ]
  },
  {
   "cell_type": "code",
   "execution_count": 14,
   "id": "766342df-259d-4ff5-a109-9f40f875e2a7",
   "metadata": {},
   "outputs": [
    {
     "name": "stdout",
     "output_type": "stream",
     "text": [
      "\n",
      "Агреговані дані по зарплаті за посадами:\n",
      "                                           Зарплата на місяць       \n",
      "                                                          min    max\n",
      "Посада                                                              \n",
      "Business analyst                                          200   5000\n",
      "DBA                                                       380   6000\n",
      "Data Scientist / Data Analyst                             150   8000\n",
      "Designer                                                  100   4000\n",
      "DevOps                                                    194  10000\n",
      "Director of Engineering / Program Director               1500  34000\n",
      "ERP / CRM                                                 100   6000\n",
      "Game designer                                             150   6800\n",
      "HR                                                        100   7000\n",
      "HTML coder                                                154   3000\n",
      "Junior QA engineer                                         96   2000\n",
      "Junior Software Engineer                                   75   2600\n",
      "Marketing                                                 100   4000\n",
      "Product Manager                                           250   5000\n",
      "Project manager                                           190   8000\n",
      "QA Tech Lead                                              430   6000\n",
      "QA engineer                                               150   2900\n",
      "Research Engineer                                         114   4000\n",
      "Sales manager                                             120   2300\n",
      "Scrum Master                                              370   4500\n",
      "Security Specialist                                       300   4000\n",
      "Senior Project Manager / Program Manager                  200   9100\n",
      "Senior QA engineer                                        400   6000\n",
      "Senior Software Engineer                                  350   9200\n",
      "Software Engineer                                         100   7000\n",
      "Support                                                   138   3650\n",
      "Sysadmin                                                   90   3000\n",
      "System Architect                                          400  10000\n",
      "Talent Researcher                                         100   1700\n",
      "Team lead                                                 300   7000\n",
      "Technical Lead                                            500  18000\n",
      "Technical writer                                          200   3000\n"
     ]
    }
   ],
   "source": [
    "# Створіть новий DataFrame, де для згрупованих даних за стовпчиком \"Посада\", виконайте агрегацію даних за допомогою методу agg і знайдіть мінімальне та максимальне значення у стовпчику \"Зарплата.в.місяць\"\n",
    "aggregated_data = grouped_data.agg({'Зарплата на місяць': ['min', 'max']})\n",
    "print(\"\\nАгреговані дані по зарплаті за посадами:\")\n",
    "print(aggregated_data)"
   ]
  },
  {
   "cell_type": "code",
   "execution_count": 15,
   "id": "ed7b43af-3f07-4b46-b323-0789af6824d4",
   "metadata": {},
   "outputs": [],
   "source": [
    "# Створіть функцію fill_avg_salary, яка повертатиме середнє значення заробітної плати на місяць.\n",
    "def fill_avg_salary(group):\n",
    "    non_zero_values = group[group != 0]\n",
    "    if non_zero_values.empty:\n",
    "        return pd.Series([0] * len(group), index=group.index)\n",
    "    return pd.Series([non_zero_values.mean()] * len(group), index=group.index)"
   ]
  },
  {
   "cell_type": "code",
   "execution_count": 16,
   "id": "1cc4bd3a-8d0e-4d95-a583-f7e257ae4c62",
   "metadata": {},
   "outputs": [],
   "source": [
    "# Використовуйте її для методу apply та створіть новий стовпчик \"avg\"\n",
    "df['avg'] = df.groupby('Посада')['Зарплата на місяць'].apply(lambda group: fill_avg_salary(group)).reset_index(level=0, drop=True)"
   ]
  },
  {
   "cell_type": "code",
   "execution_count": 17,
   "id": "d7f9b022-8ed6-442c-b9fb-3a9380e4506a",
   "metadata": {},
   "outputs": [
    {
     "name": "stdout",
     "output_type": "stream",
     "text": [
      "\n",
      "Описова статистика для нового стовпчика 'avg':\n",
      "count    8704.000000\n",
      "mean     1666.704159\n",
      "std       984.897129\n",
      "min       482.774752\n",
      "25%       817.339130\n",
      "50%      1678.630074\n",
      "75%      2162.688235\n",
      "max      5066.363636\n",
      "Name: avg, dtype: float64\n"
     ]
    }
   ],
   "source": [
    "# Створіть описову статистику за допомогою методу describe для нового стовпчика.\n",
    "avg_salary_stats = df['avg'].describe()\n",
    "print(\"\\nОписова статистика для нового стовпчика 'avg':\")\n",
    "print(avg_salary_stats)"
   ]
  },
  {
   "cell_type": "code",
   "execution_count": 18,
   "id": "8637f817-5425-4fe2-b673-780bdfcf26f3",
   "metadata": {},
   "outputs": [],
   "source": [
    "# Збережіть отриману таблицю в CSV файл\n",
    "output_file_path = r'e:\\go_it\\hw2\\output_data.csv'\n",
    "df.to_csv(output_file_path, index=False)"
   ]
  }
 ],
 "metadata": {
  "kernelspec": {
   "display_name": "Python 3 (ipykernel)",
   "language": "python",
   "name": "python3"
  },
  "language_info": {
   "codemirror_mode": {
    "name": "ipython",
    "version": 3
   },
   "file_extension": ".py",
   "mimetype": "text/x-python",
   "name": "python",
   "nbconvert_exporter": "python",
   "pygments_lexer": "ipython3",
   "version": "3.12.0"
  }
 },
 "nbformat": 4,
 "nbformat_minor": 5
}
