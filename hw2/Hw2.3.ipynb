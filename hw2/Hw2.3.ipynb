{
 "cells": [
  {
   "cell_type": "code",
   "execution_count": 1,
   "id": "c514b0da-1499-4a97-9341-124fa893f811",
   "metadata": {},
   "outputs": [],
   "source": [
    "import pandas as pd\n",
    "import matplotlib.pyplot as plt"
   ]
  },
  {
   "cell_type": "code",
   "execution_count": 2,
   "id": "0f79651f-06a5-4e6b-97c8-c71c075ac4fd",
   "metadata": {},
   "outputs": [],
   "source": [
    "# Прочитайте файл bestsellers.csv за допомогою методу read_csv\n",
    "file_path = r'e:\\go_it\\hw2\\bestsellers.csv'\n",
    "df = pd.read_csv(file_path)"
   ]
  },
  {
   "cell_type": "code",
   "execution_count": 3,
   "id": "48d1ae8c-fb69-496e-9392-6fbe4e9b2890",
   "metadata": {},
   "outputs": [
    {
     "name": "stdout",
     "output_type": "stream",
     "text": [
      "Перші кілька рядків таблиці:\n",
      "                                                Name  \\\n",
      "0                      10-Day Green Smoothie Cleanse   \n",
      "1                                  11/22/63: A Novel   \n",
      "2            12 Rules for Life: An Antidote to Chaos   \n",
      "3                             1984 (Signet Classics)   \n",
      "4  5,000 Awesome Facts (About Everything!) (Natio...   \n",
      "\n",
      "                     Author  User Rating  Reviews  Price  Year        Genre  \n",
      "0                  JJ Smith          4.7    17350      8  2016  Non Fiction  \n",
      "1              Stephen King          4.6     2052     22  2011      Fiction  \n",
      "2        Jordan B. Peterson          4.7    18979     15  2018  Non Fiction  \n",
      "3             George Orwell          4.7    21424      6  2017      Fiction  \n",
      "4  National Geographic Kids          4.8     7665     12  2019  Non Fiction  \n"
     ]
    }
   ],
   "source": [
    "# Виведіть перші кілька рядків таблиці за допомогою методу head\n",
    "print(\"Перші кілька рядків таблиці:\")\n",
    "print(df.head())"
   ]
  },
  {
   "cell_type": "code",
   "execution_count": 4,
   "id": "46c62f4d-19aa-4a48-83e3-d9576459ee93",
   "metadata": {},
   "outputs": [
    {
     "name": "stdout",
     "output_type": "stream",
     "text": [
      "\n",
      "Розмір таблиці: 550 рядків, 7 стовпців\n"
     ]
    }
   ],
   "source": [
    "# Визначте розмір таблиці за допомогою методу shape\n",
    "rows, columns = df.shape\n",
    "print(\"\\nРозмір таблиці: {} рядків, {} стовпців\".format(rows, columns))"
   ]
  },
  {
   "cell_type": "code",
   "execution_count": 5,
   "id": "db5d9e55-56cd-4ce5-bd7a-9127711c0f0b",
   "metadata": {},
   "outputs": [],
   "source": [
    "# Про скільки книг зберігає дані датасет?\n",
    "# Відповідь: 550"
   ]
  },
  {
   "cell_type": "code",
   "execution_count": 6,
   "id": "c80d654b-7945-40c0-8596-79b0e2d464cd",
   "metadata": {},
   "outputs": [
    {
     "name": "stdout",
     "output_type": "stream",
     "text": [
      "                                                name  \\\n",
      "0                      10-Day Green Smoothie Cleanse   \n",
      "1                                  11/22/63: A Novel   \n",
      "2            12 Rules for Life: An Antidote to Chaos   \n",
      "3                             1984 (Signet Classics)   \n",
      "4  5,000 Awesome Facts (About Everything!) (Natio...   \n",
      "\n",
      "                     author  user_rating  reviews  price  year        genre  \n",
      "0                  JJ Smith          4.7    17350      8  2016  Non Fiction  \n",
      "1              Stephen King          4.6     2052     22  2011      Fiction  \n",
      "2        Jordan B. Peterson          4.7    18979     15  2018  Non Fiction  \n",
      "3             George Orwell          4.7    21424      6  2017      Fiction  \n",
      "4  National Geographic Kids          4.8     7665     12  2019  Non Fiction  \n"
     ]
    }
   ],
   "source": [
    "df.columns = ['name', 'author', 'user_rating', 'reviews', 'price', 'year', 'genre']\n",
    "print(df.head())"
   ]
  },
  {
   "cell_type": "code",
   "execution_count": 7,
   "id": "9d733cec-c67b-4763-9718-67f2488ce2ed",
   "metadata": {},
   "outputs": [
    {
     "name": "stdout",
     "output_type": "stream",
     "text": [
      "name           0\n",
      "author         0\n",
      "user_rating    0\n",
      "reviews        0\n",
      "price          0\n",
      "year           0\n",
      "genre          0\n",
      "dtype: int64\n"
     ]
    }
   ],
   "source": [
    "# Вивести кількість пропусків у кожному стовпці\n",
    "missing_data = df.isna().sum()\n",
    "print(missing_data)"
   ]
  },
  {
   "cell_type": "code",
   "execution_count": 8,
   "id": "34f162da-f794-43e1-9008-d9d062860833",
   "metadata": {},
   "outputs": [],
   "source": [
    "# Чи є в якихось змінних пропуски?\n",
    "# Відповідь: Hi"
   ]
  },
  {
   "cell_type": "code",
   "execution_count": 9,
   "id": "c21b607a-9d28-4796-9817-7ae7458d5a01",
   "metadata": {},
   "outputs": [
    {
     "name": "stdout",
     "output_type": "stream",
     "text": [
      "['Non Fiction' 'Fiction']\n"
     ]
    }
   ],
   "source": [
    "# Вивести унікальні значення в колонці \"genre\"\n",
    "unique_genres = df['genre'].unique()\n",
    "print(unique_genres)"
   ]
  },
  {
   "cell_type": "code",
   "execution_count": 10,
   "id": "18590c22-6eb6-4233-a5c2-f0932a1d8a70",
   "metadata": {},
   "outputs": [],
   "source": [
    "# Які є унікальні жанри?\n",
    "# Відповідь 'Non Fiction' 'Fiction'"
   ]
  },
  {
   "cell_type": "code",
   "execution_count": 11,
   "id": "191a4f69-e624-4dcd-921f-0160508fe10a",
   "metadata": {},
   "outputs": [
    {
     "data": {
      "image/png": "[encoded data removed]",
      "text/plain": [
       "<Figure size 1000x600 with 1 Axes>"
      ]
     },
     "metadata": {},
     "output_type": "display_data"
    }
   ],
   "source": [
    "# Побудувати діаграму розподілу цін\n",
    "df['price'].plot.hist(bins=20, edgecolor='black', color='skyblue', figsize=(10, 6))\n",
    "plt.title('Розподіл цін на книги')\n",
    "plt.xlabel('Ціна')\n",
    "plt.ylabel('Кількість книг')\n",
    "plt.show()"
   ]
  },
  {
   "cell_type": "code",
   "execution_count": 12,
   "id": "c8e8bf71-bd7e-40f1-8696-1dcb687f434c",
   "metadata": {},
   "outputs": [
    {
     "name": "stdout",
     "output_type": "stream",
     "text": [
      "Максимальна ціна: 105\n",
      "Мінімальна ціна: 0\n",
      "Середня ціна: 13.1\n",
      "Медіанна ціна: 11.0\n"
     ]
    }
   ],
   "source": [
    "# Максимальна ціна\n",
    "max_price = df['price'].max()\n",
    "\n",
    "# Мінімальна ціна\n",
    "min_price = df['price'].min()\n",
    "\n",
    "# Середня ціна\n",
    "mean_price = df['price'].mean()\n",
    "\n",
    "# Медіанна ціна\n",
    "median_price = df['price'].median()\n",
    "\n",
    "print(f\"Максимальна ціна: {max_price}\")\n",
    "print(f\"Мінімальна ціна: {min_price}\")\n",
    "print(f\"Середня ціна: {mean_price}\")\n",
    "print(f\"Медіанна ціна: {median_price}\")"
   ]
  },
  {
   "cell_type": "code",
   "execution_count": 13,
   "id": "893c6bb4-1805-4b9e-948c-9d7b2759e564",
   "metadata": {},
   "outputs": [],
   "source": [
    "# Максимальна ціна?\n",
    "# Мінімальна ціна?\n",
    "# Середня ціна?\n",
    "# Медіанна ціна?\n",
    "\n",
    "# Відповідь:\n",
    "# Максимальна ціна: 105\n",
    "# Мінімальна ціна: 0\n",
    "# Середня ціна: 13.1\n",
    "# Медіанна ціна: 11.0"
   ]
  },
  {
   "cell_type": "code",
   "execution_count": 14,
   "id": "94a66272-1fda-460a-b3ec-54b6e3b2eb85",
   "metadata": {},
   "outputs": [
    {
     "name": "stdout",
     "output_type": "stream",
     "text": [
      "Максимальний рейтинг у датасеті: 4.9\n"
     ]
    }
   ],
   "source": [
    "max_rating = df['user_rating'].max()\n",
    "print(\"Максимальний рейтинг у датасеті:\", max_rating)"
   ]
  },
  {
   "cell_type": "code",
   "execution_count": 15,
   "id": "42f7bc3f-ac97-415d-8af7-9e2d95df44a1",
   "metadata": {},
   "outputs": [],
   "source": [
    "# Який рейтинг у датасеті найвищий? Відповідь: 4.9"
   ]
  },
  {
   "cell_type": "code",
   "execution_count": 16,
   "id": "8cbf8894-8bb6-4545-a90f-64cfd2a195d1",
   "metadata": {},
   "outputs": [
    {
     "name": "stdout",
     "output_type": "stream",
     "text": [
      "Кількість книг із найвищим рейтингом: 52\n"
     ]
    }
   ],
   "source": [
    "books_with_max_rating = df[df['user_rating'] == max_rating]\n",
    "count_books_with_max_rating = books_with_max_rating.shape[0]\n",
    "print(\"Кількість книг із найвищим рейтингом:\", count_books_with_max_rating)"
   ]
  },
  {
   "cell_type": "code",
   "execution_count": 17,
   "id": "994a2de6-b4df-4c49-8e2a-9b895508a287",
   "metadata": {},
   "outputs": [],
   "source": [
    "# Скільки книг мають такий рейтинг? Відповідь: 52"
   ]
  },
  {
   "cell_type": "code",
   "execution_count": 18,
   "id": "a2c29c86-9618-4ff7-a20b-c408133dcc5c",
   "metadata": {},
   "outputs": [
    {
     "name": "stdout",
     "output_type": "stream",
     "text": [
      "Книга з найбільшою кількістю відгуків: Where the Crawdads Sing\n"
     ]
    }
   ],
   "source": [
    "book_with_max_reviews = df.loc[df['reviews'].idxmax()]\n",
    "print(\"Книга з найбільшою кількістю відгуків:\", book_with_max_reviews['name'])"
   ]
  },
  {
   "cell_type": "code",
   "execution_count": 19,
   "id": "62d0b43a-e609-454f-ba97-763b6aaa61db",
   "metadata": {},
   "outputs": [],
   "source": [
    "# Яка книга має найбільше відгуків? Відповідь: Where the Crawdads Sing"
   ]
  },
  {
   "cell_type": "code",
   "execution_count": 20,
   "id": "0bfd7183-173f-441f-b380-563d0bf93532",
   "metadata": {},
   "outputs": [
    {
     "name": "stdout",
     "output_type": "stream",
     "text": [
      "Найдорожча книга, що потрапила до Топ-50 у 2015 році: Publication Manual of the American Psychological Association, 6th Edition\n"
     ]
    }
   ],
   "source": [
    "# Створення проміжного датафрейму для 2015 року\n",
    "df_2015 = df[df['year'] == 2015]\n",
    "\n",
    "# Знайдення найдорожчої книги в проміжному датафреймі\n",
    "most_expensive_2015 = df_2015.loc[df_2015['price'].idxmax()]\n",
    "\n",
    "print(\"Найдорожча книга, що потрапила до Топ-50 у 2015 році:\", most_expensive_2015['name'])"
   ]
  },
  {
   "cell_type": "code",
   "execution_count": 21,
   "id": "14b2b682-0ae8-4b9b-9d42-4b24bd33599f",
   "metadata": {},
   "outputs": [],
   "source": [
    "# З тих книг, що потрапили до Топ-50 у 2015 році, яка книга найдорожча (можна використати проміжний датафрейм)? Відповідь: Publication Manual of the American Psychological Association, 6th Edition"
   ]
  },
  {
   "cell_type": "code",
   "execution_count": 22,
   "id": "17771041-20db-4544-bbde-2a1a500f49f8",
   "metadata": {},
   "outputs": [
    {
     "name": "stdout",
     "output_type": "stream",
     "text": [
      "Кількість книг жанру Fiction у Топ-50 у 2010 році: 20\n"
     ]
    }
   ],
   "source": [
    "# Знаходження кількості книг жанру Fiction у Топ-50 у 2010 році\n",
    "fiction_2010_count = df[(df['genre'] == 'Fiction') & (df['year'] == 2010)].shape[0]\n",
    "\n",
    "print(\"Кількість книг жанру Fiction у Топ-50 у 2010 році:\", fiction_2010_count)"
   ]
  },
  {
   "cell_type": "code",
   "execution_count": 23,
   "id": "58582823-b5aa-47f4-b58d-88d9c4fc6cb8",
   "metadata": {},
   "outputs": [],
   "source": [
    "# Скільки книг жанру Fiction потрапили до Топ-50 у 2010 році (використовуйте &)? Відповідь: 20"
   ]
  },
  {
   "cell_type": "code",
   "execution_count": 24,
   "id": "3b8e60c5-2b1a-467f-9fb8-41d594293aee",
   "metadata": {},
   "outputs": [
    {
     "name": "stdout",
     "output_type": "stream",
     "text": [
      "Кількість книг з рейтингом 4.9, які потрапили до рейтингу у 2010 та 2011 роках: 1\n"
     ]
    }
   ],
   "source": [
    "# Знаходження кількості книг з рейтингом 4.9, які потрапили до рейтингу у 2010 та 2011 роках\n",
    "high_rated_books_count = df[(df['user_rating'] == 4.9) & (df['year'].isin([2010, 2011]))].shape[0]\n",
    "\n",
    "print(\"Кількість книг з рейтингом 4.9, які потрапили до рейтингу у 2010 та 2011 роках:\", high_rated_books_count)"
   ]
  },
  {
   "cell_type": "code",
   "execution_count": 25,
   "id": "978e47bf-6f9c-4689-9b39-9ff556a41927",
   "metadata": {},
   "outputs": [],
   "source": [
    "# Скільки книг з рейтингом 4.9 потрапило до рейтингу у 2010 та 2011 роках (використовуйте | або функцію isin)? Відповідь: 1"
   ]
  },
  {
   "cell_type": "code",
   "execution_count": 26,
   "id": "52e5cab8-976c-453e-95d3-ae8d49b73b9b",
   "metadata": {},
   "outputs": [
    {
     "name": "stdout",
     "output_type": "stream",
     "text": [
      "Остання книга у відсортованому списку:\n",
      "name           Old School (Diary of a Wimpy Kid #10)\n",
      "author                                   Jeff Kinney\n",
      "user_rating                                      4.8\n",
      "reviews                                         6169\n",
      "price                                              7\n",
      "year                                            2015\n",
      "genre                                        Fiction\n",
      "Name: 253, dtype: object\n"
     ]
    }
   ],
   "source": [
    "# Відсортувати за зростанням ціни всі книги, які потрапили до рейтингу в 2015 році і коштують менше 8 доларів\n",
    "sorted_books = df[(df['year'] == 2015) & (df['price'] < 8)].sort_values(by='price')\n",
    "\n",
    "# Вивести останню книгу у відсортованому списку\n",
    "last_book = sorted_books.iloc[-1]\n",
    "\n",
    "print(\"Остання книга у відсортованому списку:\")\n",
    "print(last_book)"
   ]
  },
  {
   "cell_type": "code",
   "execution_count": 27,
   "id": "334de4e1-d2e2-4143-a0c6-d001ac6f989e",
   "metadata": {},
   "outputs": [],
   "source": [
    "# Яка книга остання у відсортованому списку? Відповідь: Old School (Diary of a Wimpy Kid #10)"
   ]
  },
  {
   "cell_type": "code",
   "execution_count": 28,
   "id": "d749d6f9-2393-41d5-8911-0107f1b01fe9",
   "metadata": {},
   "outputs": [
    {
     "name": "stdout",
     "output_type": "stream",
     "text": [
      "Максимальна та мінімальна ціна для кожного жанру:\n",
      "             max  min\n",
      "genre                \n",
      "Fiction       82    0\n",
      "Non Fiction  105    0\n"
     ]
    }
   ],
   "source": [
    "# Групуємо за жанром і обчислюємо максимальну та мінімальну ціни для кожного жанру\n",
    "genre_prices = df.groupby('genre')['price'].agg(['max', 'min'])\n",
    "\n",
    "# Виводимо результат\n",
    "print(\"Максимальна та мінімальна ціна для кожного жанру:\")\n",
    "print(genre_prices)"
   ]
  },
  {
   "cell_type": "code",
   "execution_count": 29,
   "id": "8840bca1-4acc-4ca0-ba2a-e2a246761463",
   "metadata": {},
   "outputs": [],
   "source": [
    "# Максимальна ціна для жанру Fiction: Відповідь: 82\n",
    "# Мінімальна ціна для жанру Fiction: Відповідь: 0\n",
    "# Максимальна ціна для жанру Non Fiction: Відповідь: 105\n",
    "# Мінімальна ціна для жанру Non Fiction: Відповідь: 0"
   ]
  },
  {
   "cell_type": "code",
   "execution_count": 30,
   "id": "0fcc553a-eb3e-4e8e-a167-65b191c8a82b",
   "metadata": {},
   "outputs": [
    {
     "name": "stdout",
     "output_type": "stream",
     "text": [
      "Розмірність таблиці: (248, 1)\n",
      "Автор з найбільшею кількістю книг: Jeff Kinney\n",
      "Кількість книг цього автора: 12\n"
     ]
    }
   ],
   "source": [
    "# Групуємо за автором і обчислюємо кількість книг для кожного автора\n",
    "author_books_count = df.groupby('author')['name'].agg('count')\n",
    "\n",
    "# Створюємо новий DataFrame з кількістю книг для кожного автора\n",
    "author_books_df = pd.DataFrame({'Кількість книг': author_books_count})\n",
    "\n",
    "# Сортуємо за зменшенням кількості книг, щоб отримати автора з найбільшею кількістю книг\n",
    "author_books_df = author_books_df.sort_values(by='Кількість книг', ascending=False)\n",
    "\n",
    "# Виводимо результат та відповіді на запитання\n",
    "print(\"Розмірність таблиці:\", author_books_df.shape)\n",
    "print(\"Автор з найбільшею кількістю книг:\", author_books_df.index[0])\n",
    "print(\"Кількість книг цього автора:\", author_books_df.iloc[0, 0])"
   ]
  },
  {
   "cell_type": "code",
   "execution_count": 31,
   "id": "6f324af6-e87d-4cdb-9455-e42983a093a8",
   "metadata": {},
   "outputs": [],
   "source": [
    "# Якої розмірності вийшла таблиця? Відповідь: (248, 1)\n",
    "# Який автор має найбільше книг? Відповідь: Jeff Kinney\n",
    "# Скільки книг цього автора? Відповідь: 12"
   ]
  },
  {
   "cell_type": "code",
   "execution_count": 32,
   "id": "86971814-67c5-4f3d-8da8-e2ef65bcad09",
   "metadata": {},
   "outputs": [
    {
     "name": "stdout",
     "output_type": "stream",
     "text": [
      "Автор з найменшим середнім рейтингом: Donna Tartt\n",
      "Його середній рейтинг: 3.9\n"
     ]
    }
   ],
   "source": [
    "# Групуємо за автором і обчислюємо середній рейтинг для кожного автора\n",
    "author_avg_rating = df.groupby('author')['user_rating'].agg('mean')\n",
    "\n",
    "# Створюємо новий DataFrame з середнім рейтингом для кожного автора\n",
    "author_avg_rating_df = pd.DataFrame({'Середній рейтинг': author_avg_rating})\n",
    "\n",
    "# Знаходимо автора з найменшим середнім рейтингом\n",
    "min_avg_author = author_avg_rating_df.idxmin().iloc[0]\n",
    "min_avg_rating = author_avg_rating_df.min().iloc[0]\n",
    "\n",
    "# Виводимо результат та відповіді на запитання\n",
    "print(\"Автор з найменшим середнім рейтингом:\", min_avg_author)\n",
    "print(\"Його середній рейтинг:\", min_avg_rating)"
   ]
  },
  {
   "cell_type": "code",
   "execution_count": 33,
   "id": "82b3fb51-7474-4b54-84fe-0f4d4d97bb1b",
   "metadata": {},
   "outputs": [],
   "source": [
    "# У якого автора середній рейтинг мінімальний? Відповідь: Donna Tartt\n",
    "# Який у цього автора середній рейтинг? Відповідь: 3.9"
   ]
  },
  {
   "cell_type": "code",
   "execution_count": 34,
   "id": "d9e5caf5-f008-45b7-a56f-9e7061b34bd7",
   "metadata": {},
   "outputs": [
    {
     "name": "stdout",
     "output_type": "stream",
     "text": [
      "Автор з найбільшою кількістю книг та найнижчим середнім рейтингом:\n",
      "                Кількість книг  Середній рейтинг\n",
      "author                                          \n",
      "Muriel Barbery               1               4.0\n"
     ]
    }
   ],
   "source": [
    "# Об'єднання двох датафреймів за автором\n",
    "merged_df = pd.concat([author_books_df, author_avg_rating_df], axis=1)\n",
    "\n",
    "# Відсортування за зростанням кількості книг та за зростанням рейтингу\n",
    "sorted_df = merged_df.sort_values(by=['Кількість книг', 'Середній рейтинг'], ascending=[True, True])\n",
    "\n",
    "# Виведення результатів та відповідей на запитання\n",
    "print(\"Автор з найбільшою кількістю книг та найнижчим середнім рейтингом:\")\n",
    "print(sorted_df.head(1))"
   ]
  },
  {
   "cell_type": "code",
   "execution_count": 35,
   "id": "a669af41-350a-4a51-a89a-48d782ec30e8",
   "metadata": {},
   "outputs": [],
   "source": [
    "# Який автор перший у списку? Відповідь: Muriel Barbery"
   ]
  }
 ],
 "metadata": {
  "kernelspec": {
   "display_name": "Python 3 (ipykernel)",
   "language": "python",
   "name": "python3"
  },
  "language_info": {
   "codemirror_mode": {
    "name": "ipython",
    "version": 3
   },
   "file_extension": ".py",
   "mimetype": "text/x-python",
   "name": "python",
   "nbconvert_exporter": "python",
   "pygments_lexer": "ipython3",
   "version": "3.12.0"
  }
 },
 "nbformat": 4,
 "nbformat_minor": 5
}
