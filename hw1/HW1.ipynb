{
 "cells": [
  {
   "cell_type": "code",
   "execution_count": 1,
   "id": "c79f1070-9d06-4e21-8be4-368297d1c4ee",
   "metadata": {},
   "outputs": [],
   "source": [
    "import numpy as np"
   ]
  },
  {
   "cell_type": "code",
   "execution_count": 2,
   "id": "466a44e2-e86a-4b3a-b009-1e7603c3bad4",
   "metadata": {},
   "outputs": [
    {
     "name": "stdout",
     "output_type": "stream",
     "text": [
      "First task result:\n",
      "[ 1  2  3  4  5  6  7  8  9 10]\n",
      "\n"
     ]
    }
   ],
   "source": [
    "# 1\n",
    "a_1 = np.arange(1,11)\n",
    "print(f\"First task result:\\n{a_1}\\n\")"
   ]
  },
  {
   "cell_type": "code",
   "execution_count": 3,
   "id": "a5d33817-7c0c-43c5-b4a7-4c65912f803a",
   "metadata": {},
   "outputs": [
    {
     "name": "stdout",
     "output_type": "stream",
     "text": [
      "Second task result:\n",
      "[[0 0 0]\n",
      " [0 0 0]\n",
      " [0 0 0]]\n",
      "\n"
     ]
    }
   ],
   "source": [
    "#2\n",
    "m_2 = np.zeros((3, 3), dtype=int)\n",
    "print(f\"Second task result:\\n{m_2}\\n\")"
   ]
  },
  {
   "cell_type": "code",
   "execution_count": 4,
   "id": "108effcb-da32-4512-98f0-aa4790408de5",
   "metadata": {},
   "outputs": [
    {
     "name": "stdout",
     "output_type": "stream",
     "text": [
      "Third task result:\n",
      "[[ 8  4  9  3  1]\n",
      " [ 3  8  1 10  6]\n",
      " [ 6  3  6  3  6]\n",
      " [ 5  7  4  8  6]\n",
      " [ 8  7 10  9 10]]\n",
      "\n"
     ]
    }
   ],
   "source": [
    "#3\n",
    "m_3 = np.random.randint(1, 11, size=(5, 5))\n",
    "print(f\"Third task result:\\n{m_3}\\n\")"
   ]
  },
  {
   "cell_type": "code",
   "execution_count": 5,
   "id": "d2e7d09d-1ead-4d0b-99dc-28bc0de46ebc",
   "metadata": {},
   "outputs": [
    {
     "name": "stdout",
     "output_type": "stream",
     "text": [
      "Fourth task result:\n",
      "[[0.88531463 0.83226359 0.8158358  0.7704637 ]\n",
      " [0.24096398 0.46798953 0.13975376 0.80800182]\n",
      " [0.15349897 0.09411576 0.35623085 0.12157274]\n",
      " [0.44812777 0.081343   0.14136507 0.84074688]]\n",
      "\n"
     ]
    }
   ],
   "source": [
    "#4\n",
    "m_4 = np.random.random((4,4))\n",
    "print(f\"Fourth task result:\\n{m_4}\\n\")"
   ]
  },
  {
   "cell_type": "code",
   "execution_count": 6,
   "id": "47c93783-a4b2-40c6-8754-51dcafb347e2",
   "metadata": {},
   "outputs": [
    {
     "name": "stdout",
     "output_type": "stream",
     "text": [
      "Fifth task results:\n",
      "      First array  = [8 9 9 6 9];\n",
      "      Second array = [ 2  5 10  5 10];\n",
      "      \n",
      "      Sum           = [10 14 19 11 19];\n",
      "      Subtraction   = [ 6  4 -1  1 -1];\n",
      "      Prod          = [16 45 90 30 90]\n",
      "\n"
     ]
    }
   ],
   "source": [
    "#5\n",
    "a_5 = np.random.randint(1, 11, size=5)\n",
    "b_5 = np.random.randint(1, 11, size=5)\n",
    "\n",
    "sum_array = a_5 + b_5\n",
    "subtr_array = a_5 - b_5\n",
    "prod_array = a_5 * b_5\n",
    "\n",
    "print(f\"\"\"Fifth task results:\n",
    "      First array  = {a_5};\n",
    "      Second array = {b_5};\n",
    "      \n",
    "      Sum           = {sum_array};\n",
    "      Subtraction   = {subtr_array};\n",
    "      Prod          = {prod_array}\\n\"\"\")"
   ]
  },
  {
   "cell_type": "code",
   "execution_count": 7,
   "id": "5b30b364-3ce9-4f19-ba83-7fdc2fae2f12",
   "metadata": {},
   "outputs": [
    {
     "name": "stdout",
     "output_type": "stream",
     "text": [
      "Sixth task results:\n",
      "      First array  = [8 8 3 6 9 9 4];\n",
      "      Second array = [10  6  7  9  8  1  6];\n",
      "      Result = 308\n",
      "\n"
     ]
    }
   ],
   "source": [
    "#6\n",
    "a_7 = np.random.randint(1, 11, size=7)\n",
    "b_7 = np.random.randint(1, 11, size=7)\n",
    "\n",
    "dot_prod = np.dot(a_7, b_7)\n",
    "print(f\"\"\"Sixth task results:\n",
    "      First array  = {a_7};\n",
    "      Second array = {b_7};\n",
    "      Result = {dot_prod}\\n\"\"\")"
   ]
  },
  {
   "cell_type": "code",
   "execution_count": 8,
   "id": "7f2854c0-4aa2-41b9-aae6-e6910016b53c",
   "metadata": {},
   "outputs": [
    {
     "name": "stdout",
     "output_type": "stream",
     "text": [
      "Seventh task results:\n",
      "First matrix\n",
      "[[7 1]\n",
      " [2 2]];  \n",
      "Second array\n",
      "[[7 6 3]\n",
      " [1 1 6]];\n",
      "Result\n",
      "[[50 43 27]\n",
      " [16 14 18]]\n",
      "\n"
     ]
    }
   ],
   "source": [
    "#7\n",
    "m_7 = np.random.randint(1, 11, size=(2, 2))\n",
    "mx_7 = np.random.randint(1, 11, size=(2, 3))\n",
    "\n",
    "res_7 = np.dot(m_7, mx_7)\n",
    "\n",
    "print(f\"\"\"Seventh task results:\n",
    "First matrix\n",
    "{m_7};  \n",
    "Second array\n",
    "{mx_7};\n",
    "Result\n",
    "{res_7}\\n\"\"\")\n"
   ]
  },
  {
   "cell_type": "code",
   "execution_count": 9,
   "id": "b284cf0d-857d-4ab6-bed5-1906f2f06279",
   "metadata": {},
   "outputs": [
    {
     "name": "stdout",
     "output_type": "stream",
     "text": [
      "Eighth task results:\n",
      "Initial matrix\n",
      "[[ 8 10  7]\n",
      " [ 3  9  3]\n",
      " [ 3  2  3]];  \n",
      "\n",
      "Inverse matrix\n",
      "[[ 1.         -0.76190476 -1.57142857]\n",
      " [ 0.          0.14285714 -0.14285714]\n",
      " [-1.          0.66666667  2.        ]]\n",
      "\n"
     ]
    }
   ],
   "source": [
    "#8\n",
    "m_8 = np.random.randint(1, 11, size=(3, 3))\n",
    "\n",
    "res_8 = np.linalg.inv(m_8)\n",
    "\n",
    "print(f\"\"\"Eighth task results:\n",
    "Initial matrix\n",
    "{m_8};  \n",
    "\n",
    "Inverse matrix\n",
    "{res_8}\\n\"\"\")"
   ]
  },
  {
   "cell_type": "code",
   "execution_count": 10,
   "id": "28a41257-36eb-463e-a142-d6bbc50125a0",
   "metadata": {},
   "outputs": [
    {
     "name": "stdout",
     "output_type": "stream",
     "text": [
      "Ninth task results:\n",
      "Initial matrix\n",
      "[[0.88531463 0.83226359 0.8158358  0.7704637 ]\n",
      " [0.24096398 0.46798953 0.13975376 0.80800182]\n",
      " [0.15349897 0.09411576 0.35623085 0.12157274]\n",
      " [0.44812777 0.081343   0.14136507 0.84074688]];  \n",
      "\n",
      "T-matrix\n",
      "[[0.88531463 0.24096398 0.15349897 0.44812777]\n",
      " [0.83226359 0.46798953 0.09411576 0.081343  ]\n",
      " [0.8158358  0.13975376 0.35623085 0.14136507]\n",
      " [0.7704637  0.80800182 0.12157274 0.84074688]]\n",
      "\n"
     ]
    }
   ],
   "source": [
    "#9\n",
    "transp_matrix = m_4.T # m_4 is a suitable matrix from the task 4\n",
    "print(f\"\"\"Ninth task results:\n",
    "Initial matrix\n",
    "{m_4};  \n",
    "\n",
    "T-matrix\n",
    "{transp_matrix}\\n\"\"\")"
   ]
  },
  {
   "cell_type": "code",
   "execution_count": 11,
   "id": "ef7cc86a-ecad-409c-a974-fb8bf4718ef9",
   "metadata": {},
   "outputs": [
    {
     "name": "stdout",
     "output_type": "stream",
     "text": [
      "Tenth task results:\n",
      "Initial matrix\n",
      "[[ 6  9 10  2]\n",
      " [ 8  9  5  5]\n",
      " [ 2  3  8  8]]\n",
      "\n",
      "Initial vector\n",
      "[2 9 2 4]\n",
      "\n",
      "Result\n",
      "[[12 81 20  8]\n",
      " [16 81 10 20]\n",
      " [ 4 27 16 32]]\n",
      "\n"
     ]
    }
   ],
   "source": [
    "#10\n",
    "m_10 = np.random.randint(1, 11, size=(3, 4))\n",
    "a_10 = np.random.randint(1, 11, size=4)\n",
    "\n",
    "res_10 = m_10 * a_10\n",
    "\n",
    "print(f\"\"\"Tenth task results:\n",
    "Initial matrix\n",
    "{m_10}\n",
    "\n",
    "Initial vector\n",
    "{a_10}\n",
    "\n",
    "Result\n",
    "{res_10}\\n\"\"\")"
   ]
  },
  {
   "cell_type": "code",
   "execution_count": 12,
   "id": "ed707590-1808-457c-8d42-29794c761164",
   "metadata": {},
   "outputs": [
    {
     "name": "stdout",
     "output_type": "stream",
     "text": [
      "11th task results:\n",
      "Initial matrix\n",
      "[[0.31491187 0.56247708 0.44002011]\n",
      " [0.7701976  0.8453935  0.07415156]]\n",
      "\n",
      "Initial vector\n",
      "[0.1688156  0.15962983 0.90165368]\n",
      "\n",
      "Result\n",
      "[[0.05316204 0.08978812 0.39674575]\n",
      " [0.13002137 0.13495002 0.06685903]]\n",
      "\n"
     ]
    }
   ],
   "source": [
    "#11\n",
    "m_11 = np.random.random((2,3))\n",
    "a_11 = np.random.random((3))\n",
    "\n",
    "res_11 = m_11 * a_11\n",
    "\n",
    "print(f\"\"\"11th task results:\n",
    "Initial matrix\n",
    "{m_11}\n",
    "\n",
    "Initial vector\n",
    "{a_11}\n",
    "\n",
    "Result\n",
    "{res_11}\\n\"\"\")"
   ]
  },
  {
   "cell_type": "code",
   "execution_count": 13,
   "id": "29d02d1c-6b36-408e-81a5-abdff640cc53",
   "metadata": {},
   "outputs": [
    {
     "name": "stdout",
     "output_type": "stream",
     "text": [
      "12th task results:\n",
      "First matrix\n",
      "[[ 2  2]\n",
      " [ 2 10]];  \n",
      "Second array\n",
      "[[6 5]\n",
      " [5 5]];\n",
      "Result\n",
      "[[12 10]\n",
      " [10 50]]\n",
      "\n"
     ]
    }
   ],
   "source": [
    "#12\n",
    "m_12 = np.random.randint(1, 11, size=(2, 2))\n",
    "mx_12 = np.random.randint(1, 11, size=(2, 2))\n",
    "\n",
    "res_12 = m_12 * mx_12\n",
    "\n",
    "print(f\"\"\"12th task results:\n",
    "First matrix\n",
    "{m_12};  \n",
    "Second array\n",
    "{mx_12};\n",
    "Result\n",
    "{res_12}\\n\"\"\")"
   ]
  },
  {
   "cell_type": "code",
   "execution_count": 14,
   "id": "7d0bd3bb-2878-4db7-abe8-dcbc5aa766df",
   "metadata": {},
   "outputs": [
    {
     "name": "stdout",
     "output_type": "stream",
     "text": [
      "13th task results:\n",
      "First matrix\n",
      "[[ 2  2]\n",
      " [ 2 10]];  \n",
      "Second array\n",
      "[[6 5]\n",
      " [5 5]];\n",
      "Result\n",
      "[[22 20]\n",
      " [62 60]]\n",
      "\n"
     ]
    }
   ],
   "source": [
    "#13\n",
    "# Lets use matrices from previous task\n",
    "res_13 = np.dot(m_12, mx_12)\n",
    "\n",
    "print(f\"\"\"13th task results:\n",
    "First matrix\n",
    "{m_12};  \n",
    "Second array\n",
    "{mx_12};\n",
    "Result\n",
    "{res_13}\\n\"\"\")"
   ]
  },
  {
   "cell_type": "code",
   "execution_count": 15,
   "id": "3d8d9705-86a8-49b3-a718-fa8bc7006c5a",
   "metadata": {},
   "outputs": [
    {
     "name": "stdout",
     "output_type": "stream",
     "text": [
      "14th task results:\n",
      "Matrix\n",
      "[[37 12 46 97 83]\n",
      " [ 1 22 11 36 10]\n",
      " [32 39 86 64 75]\n",
      " [44 63  8 69 73]\n",
      " [71 23 77 80 97]]\n",
      "Result\n",
      "1256\n",
      "\n"
     ]
    }
   ],
   "source": [
    "#14\n",
    "m_14 = np.random.randint(1, 101, size=(5, 5))\n",
    "res_14 = m_14.sum()\n",
    "\n",
    "print(f\"\"\"14th task results:\n",
    "Matrix\n",
    "{m_14}\n",
    "Result\n",
    "{res_14}\\n\"\"\")"
   ]
  },
  {
   "cell_type": "code",
   "execution_count": 16,
   "id": "022ad3a8-437a-45ac-98a3-261528e523e5",
   "metadata": {},
   "outputs": [
    {
     "name": "stdout",
     "output_type": "stream",
     "text": [
      "15th task results:\n",
      "First matrix\n",
      "[[ 5  6 10  5]\n",
      " [10  6 10  5]\n",
      " [ 4  1  7  8]\n",
      " [ 3  4  3  1]];  \n",
      "Second array\n",
      "[[5 4 8 8]\n",
      " [8 4 5 3]\n",
      " [7 2 6 7]\n",
      " [4 6 2 7]];\n",
      "Result\n",
      "[[ 0  2  2 -3]\n",
      " [ 2  2  5  2]\n",
      " [-3 -1  1  1]\n",
      " [-1 -2  1 -6]]\n",
      "\n"
     ]
    }
   ],
   "source": [
    "#15\n",
    "m_15 = np.random.randint(1, 11, size=(4, 4))\n",
    "mx_15 = np.random.randint(1, 11, size=(4, 4))\n",
    "res_15 = m_15 - mx_15\n",
    "\n",
    "print(f\"\"\"15th task results:\n",
    "First matrix\n",
    "{m_15};  \n",
    "Second array\n",
    "{mx_15};\n",
    "Result\n",
    "{res_15}\\n\"\"\")"
   ]
  },
  {
   "cell_type": "code",
   "execution_count": 17,
   "id": "5d6f2d02-478c-43e5-b8e1-7902b0d9bce4",
   "metadata": {},
   "outputs": [
    {
     "name": "stdout",
     "output_type": "stream",
     "text": [
      "16th task results:\n",
      "Matrix\n",
      "[[0.91148858 0.47648    0.13317195]\n",
      " [0.2191822  0.2137787  0.28433359]\n",
      " [0.27524547 0.65873446 0.46175789]]\n",
      "Result\n",
      "[[1.52114053]\n",
      " [0.71729449]\n",
      " [1.39573782]]\n",
      "\n"
     ]
    }
   ],
   "source": [
    "#16\n",
    "m_16 = np.random.random((3,3))\n",
    "\n",
    "res_16 = np.zeros((m_16.shape[0], 1))\n",
    "\n",
    "for i in range(m_16.shape[0]):\n",
    "    for j in range(m_16.shape[1]):\n",
    "        res_16[i, 0] += m_16[i, j]\n",
    "\n",
    "print(f\"\"\"16th task results:\n",
    "Matrix\n",
    "{m_16}\n",
    "Result\n",
    "{res_16}\\n\"\"\")"
   ]
  },
  {
   "cell_type": "code",
   "execution_count": 18,
   "id": "c89ef87d-0f72-497a-b185-9e27970cf695",
   "metadata": {},
   "outputs": [
    {
     "name": "stdout",
     "output_type": "stream",
     "text": [
      "17th task results:\n",
      "Matrix\n",
      "[[10  9  6  7]\n",
      " [ 5  3  2  4]\n",
      " [ 5  6  5  1]]\n",
      "Result\n",
      "[[100  81  36  49]\n",
      " [ 25   9   4  16]\n",
      " [ 25  36  25   1]]\n",
      "\n"
     ]
    }
   ],
   "source": [
    "#17\n",
    "m_17 = np.random.randint(1, 11, size=(3, 4))\n",
    "res_17 = m_17 ** 2\n",
    "\n",
    "print(f\"\"\"17th task results:\n",
    "Matrix\n",
    "{m_17}\n",
    "Result\n",
    "{res_17}\\n\"\"\")"
   ]
  },
  {
   "cell_type": "code",
   "execution_count": 19,
   "id": "32b2c54d-ad33-479c-97aa-e4c4434f10d5",
   "metadata": {},
   "outputs": [
    {
     "name": "stdout",
     "output_type": "stream",
     "text": [
      "17th task results:\n",
      "Matrix\n",
      "[16 11 25 30]\n",
      "Result\n",
      "[4.         3.31662479 5.         5.47722558]\n",
      "\n"
     ]
    }
   ],
   "source": [
    "#18\n",
    "a_18 = np.random.randint(1, 51, size=4)\n",
    "res_18 = a_18 ** 0.5\n",
    "\n",
    "print(f\"\"\"17th task results:\n",
    "Matrix\n",
    "{a_18}\n",
    "Result\n",
    "{res_18}\\n\"\"\")"
   ]
  }
 ],
 "metadata": {
  "kernelspec": {
   "display_name": "Python 3 (ipykernel)",
   "language": "python",
   "name": "python3"
  },
  "language_info": {
   "codemirror_mode": {
    "name": "ipython",
    "version": 3
   },
   "file_extension": ".py",
   "mimetype": "text/x-python",
   "name": "python",
   "nbconvert_exporter": "python",
   "pygments_lexer": "ipython3",
   "version": "3.12.0"
  }
 },
 "nbformat": 4,
 "nbformat_minor": 5
}
