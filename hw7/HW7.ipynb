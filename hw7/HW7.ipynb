{
 "cells": [
  {
   "cell_type": "code",
   "execution_count": 1,
   "id": "52447d8d-4a9c-4466-beae-97fbdd1726ec",
   "metadata": {},
   "outputs": [],
   "source": [
    "import surprise\n",
    "from surprise import Dataset\n",
    "from surprise.model_selection import cross_validate\n",
    "from surprise import SVD, SVDpp, NMF"
   ]
  },
  {
   "cell_type": "code",
   "execution_count": 2,
   "id": "50fc3a28-6929-4ee3-a060-e4bf598dba8e",
   "metadata": {},
   "outputs": [],
   "source": [
    "# Завантаження датасету movielens\n",
    "data = surprise.Dataset.load_builtin('ml-100k')\n"
   ]
  },
  {
   "cell_type": "code",
   "execution_count": 3,
   "id": "687b9c4b-e534-401f-bf1d-66b8953bc18e",
   "metadata": {},
   "outputs": [],
   "source": [
    "# Побудова моделі SVD з параметрами за замовчуванням\n",
    "model_svd = SVD()\n"
   ]
  },
  {
   "cell_type": "code",
   "execution_count": 4,
   "id": "98d60dd3-3254-4140-b256-62bb8c291578",
   "metadata": {},
   "outputs": [],
   "source": [
    "# Побудова моделі SVD++\n",
    "model_svdpp = SVDpp()\n"
   ]
  },
  {
   "cell_type": "code",
   "execution_count": 5,
   "id": "905dfdb7-7ecc-4ff0-8f8e-482a4b457d19",
   "metadata": {},
   "outputs": [],
   "source": [
    "# Побудова моделі NMF\n",
    "model_nmf = NMF()\n"
   ]
  },
  {
   "cell_type": "code",
   "execution_count": 6,
   "id": "ac178905-85ae-4c02-976b-03f864020f99",
   "metadata": {},
   "outputs": [
    {
     "name": "stdout",
     "output_type": "stream",
     "text": [
      "Evaluating RMSE of algorithm SVD on 5 split(s).\n",
      "\n",
      "                  Fold 1  Fold 2  Fold 3  Fold 4  Fold 5  Mean    Std     \n",
      "RMSE (testset)    0.9289  0.9425  0.9348  0.9410  0.9378  0.9370  0.0049  \n",
      "Fit time          0.67    0.67    0.66    0.66    0.66    0.66    0.00    \n",
      "Test time         0.07    0.07    0.11    0.10    0.10    0.09    0.01    \n"
     ]
    }
   ],
   "source": [
    "cv_results_svd = cross_validate(model_svd, data, measures=['RMSE'], cv=5, verbose=True)\n"
   ]
  },
  {
   "cell_type": "code",
   "execution_count": 7,
   "id": "f1d25574-d52a-4403-a139-dd7d3d4c3551",
   "metadata": {},
   "outputs": [
    {
     "name": "stdout",
     "output_type": "stream",
     "text": [
      "Evaluating RMSE of algorithm SVDpp on 5 split(s).\n",
      "\n",
      "                  Fold 1  Fold 2  Fold 3  Fold 4  Fold 5  Mean    Std     \n",
      "RMSE (testset)    0.9221  0.9236  0.9268  0.9156  0.9188  0.9214  0.0039  \n",
      "Fit time          26.00   26.60   25.91   26.15   25.73   26.08   0.29    \n",
      "Test time         2.23    2.80    2.26    2.31    2.27    2.37    0.22    \n"
     ]
    }
   ],
   "source": [
    "cv_results_svdpp = cross_validate(model_svdpp, data, measures=['RMSE'], cv=5, verbose=True)\n"
   ]
  },
  {
   "cell_type": "code",
   "execution_count": 8,
   "id": "84fa9467-a866-4b3d-8e2e-4788aa769c33",
   "metadata": {},
   "outputs": [
    {
     "name": "stdout",
     "output_type": "stream",
     "text": [
      "Evaluating RMSE of algorithm NMF on 5 split(s).\n",
      "\n",
      "                  Fold 1  Fold 2  Fold 3  Fold 4  Fold 5  Mean    Std     \n",
      "RMSE (testset)    0.9622  0.9738  0.9529  0.9678  0.9616  0.9637  0.0069  \n",
      "Fit time          1.10    1.10    1.11    1.16    1.12    1.12    0.02    \n",
      "Test time         0.06    0.10    0.10    0.06    0.08    0.08    0.02    \n"
     ]
    }
   ],
   "source": [
    "cv_results_nmf = cross_validate(model_nmf, data, measures=['RMSE'], cv=5, verbose=True)"
   ]
  },
  {
   "cell_type": "code",
   "execution_count": 9,
   "id": "90fb85e9-137e-4797-94e4-1573c14b04e3",
   "metadata": {},
   "outputs": [],
   "source": [
    "# З цих результатів видно, що алгоритм SVD++ має найнижче значення RMSE, що означає, що він показав найкращі результати на тестовому наборі даних \n",
    "# серед трьох розглянутих моделей."
   ]
  }
 ],
 "metadata": {
  "kernelspec": {
   "display_name": "Python 3 (ipykernel)",
   "language": "python",
   "name": "python3"
  },
  "language_info": {
   "codemirror_mode": {
    "name": "ipython",
    "version": 3
   },
   "file_extension": ".py",
   "mimetype": "text/x-python",
   "name": "python",
   "nbconvert_exporter": "python",
   "pygments_lexer": "ipython3",
   "version": "3.12.0"
  }
 },
 "nbformat": 4,
 "nbformat_minor": 5
}
